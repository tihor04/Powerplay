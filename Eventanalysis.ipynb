{
 "cells": [
  {
   "cell_type": "code",
   "execution_count": 2,
   "id": "388244ac",
   "metadata": {},
   "outputs": [],
   "source": [
    "import pandas as pd \n",
    "import numpy as np \n",
    "import matplotlib.pyplot as plt \n",
    "import seaborn as sns\n",
    "from datetime import time "
   ]
  },
  {
   "cell_type": "code",
   "execution_count": 3,
   "id": "1a6212ec",
   "metadata": {},
   "outputs": [],
   "source": [
    "events_df= pd.read_csv('event_raw.csv')"
   ]
  },
  {
   "cell_type": "code",
   "execution_count": 4,
   "id": "d5225a6e",
   "metadata": {},
   "outputs": [
    {
     "data": {
      "text/html": [
       "<div>\n",
       "<style scoped>\n",
       "    .dataframe tbody tr th:only-of-type {\n",
       "        vertical-align: middle;\n",
       "    }\n",
       "\n",
       "    .dataframe tbody tr th {\n",
       "        vertical-align: top;\n",
       "    }\n",
       "\n",
       "    .dataframe thead th {\n",
       "        text-align: right;\n",
       "    }\n",
       "</style>\n",
       "<table border=\"1\" class=\"dataframe\">\n",
       "  <thead>\n",
       "    <tr style=\"text-align: right;\">\n",
       "      <th></th>\n",
       "      <th>created_at_time</th>\n",
       "      <th>event</th>\n",
       "      <th>org_id</th>\n",
       "      <th>project_id</th>\n",
       "      <th>user_id</th>\n",
       "    </tr>\n",
       "  </thead>\n",
       "  <tbody>\n",
       "    <tr>\n",
       "      <th>0</th>\n",
       "      <td>2022-04-20 18:24:30</td>\n",
       "      <td>project_creation_request_success</td>\n",
       "      <td>ORG-2nufoaj370k</td>\n",
       "      <td>PRJ4k2kct6c5854</td>\n",
       "      <td>USRl50abktx6cc1</td>\n",
       "    </tr>\n",
       "    <tr>\n",
       "      <th>1</th>\n",
       "      <td>2022-04-25 23:29:54</td>\n",
       "      <td>task_log_create_success</td>\n",
       "      <td>ORG-7fcq2k7b4xg</td>\n",
       "      <td>PRJ0ypqfy9v4kii</td>\n",
       "      <td>USRqki2dkqwj6xj</td>\n",
       "    </tr>\n",
       "    <tr>\n",
       "      <th>2</th>\n",
       "      <td>2022-04-25 23:29:54</td>\n",
       "      <td>task_creation</td>\n",
       "      <td>ORG-7fcq2k7b4xg</td>\n",
       "      <td>PRJ0ypqfy9v4kii</td>\n",
       "      <td>USRqki2dkqwj6xj</td>\n",
       "    </tr>\n",
       "    <tr>\n",
       "      <th>3</th>\n",
       "      <td>2022-04-25 23:28:23</td>\n",
       "      <td>project_creation_request_success</td>\n",
       "      <td>ORG-7fcq2k7b4xg</td>\n",
       "      <td>PRJfk9dy2gb6dhp</td>\n",
       "      <td>USRqki2dkqwj6xj</td>\n",
       "    </tr>\n",
       "    <tr>\n",
       "      <th>4</th>\n",
       "      <td>2022-03-22 20:40:20</td>\n",
       "      <td>task_log_create_success</td>\n",
       "      <td>ORG-iluuim4club</td>\n",
       "      <td>PRJ1jrd11tr99dc</td>\n",
       "      <td>USRcsxgn7-vnztk</td>\n",
       "    </tr>\n",
       "  </tbody>\n",
       "</table>\n",
       "</div>"
      ],
      "text/plain": [
       "       created_at_time                             event           org_id  \\\n",
       "0  2022-04-20 18:24:30  project_creation_request_success  ORG-2nufoaj370k   \n",
       "1  2022-04-25 23:29:54           task_log_create_success  ORG-7fcq2k7b4xg   \n",
       "2  2022-04-25 23:29:54                     task_creation  ORG-7fcq2k7b4xg   \n",
       "3  2022-04-25 23:28:23  project_creation_request_success  ORG-7fcq2k7b4xg   \n",
       "4  2022-03-22 20:40:20           task_log_create_success  ORG-iluuim4club   \n",
       "\n",
       "        project_id          user_id  \n",
       "0  PRJ4k2kct6c5854  USRl50abktx6cc1  \n",
       "1  PRJ0ypqfy9v4kii  USRqki2dkqwj6xj  \n",
       "2  PRJ0ypqfy9v4kii  USRqki2dkqwj6xj  \n",
       "3  PRJfk9dy2gb6dhp  USRqki2dkqwj6xj  \n",
       "4  PRJ1jrd11tr99dc  USRcsxgn7-vnztk  "
      ]
     },
     "execution_count": 4,
     "metadata": {},
     "output_type": "execute_result"
    }
   ],
   "source": [
    "events_df.head()"
   ]
  },
  {
   "cell_type": "code",
   "execution_count": 5,
   "id": "5e219e0b",
   "metadata": {},
   "outputs": [],
   "source": [
    "events_df['created_at_time']=pd.to_datetime(events_df['created_at_time'])"
   ]
  },
  {
   "cell_type": "code",
   "execution_count": 6,
   "id": "60ac3e6f",
   "metadata": {},
   "outputs": [],
   "source": [
    "events_df['date']= events_df['created_at_time'].dt.date \n",
    "events_df['time']=events_df['created_at_time'].dt.time"
   ]
  },
  {
   "cell_type": "code",
   "execution_count": 7,
   "id": "1efcbedc",
   "metadata": {},
   "outputs": [
    {
     "data": {
      "text/html": [
       "<div>\n",
       "<style scoped>\n",
       "    .dataframe tbody tr th:only-of-type {\n",
       "        vertical-align: middle;\n",
       "    }\n",
       "\n",
       "    .dataframe tbody tr th {\n",
       "        vertical-align: top;\n",
       "    }\n",
       "\n",
       "    .dataframe thead th {\n",
       "        text-align: right;\n",
       "    }\n",
       "</style>\n",
       "<table border=\"1\" class=\"dataframe\">\n",
       "  <thead>\n",
       "    <tr style=\"text-align: right;\">\n",
       "      <th></th>\n",
       "      <th>created_at_time</th>\n",
       "      <th>event</th>\n",
       "      <th>org_id</th>\n",
       "      <th>project_id</th>\n",
       "      <th>user_id</th>\n",
       "      <th>date</th>\n",
       "      <th>time</th>\n",
       "    </tr>\n",
       "  </thead>\n",
       "  <tbody>\n",
       "    <tr>\n",
       "      <th>0</th>\n",
       "      <td>2022-04-20 18:24:30</td>\n",
       "      <td>project_creation_request_success</td>\n",
       "      <td>ORG-2nufoaj370k</td>\n",
       "      <td>PRJ4k2kct6c5854</td>\n",
       "      <td>USRl50abktx6cc1</td>\n",
       "      <td>2022-04-20</td>\n",
       "      <td>18:24:30</td>\n",
       "    </tr>\n",
       "    <tr>\n",
       "      <th>1</th>\n",
       "      <td>2022-04-25 23:29:54</td>\n",
       "      <td>task_log_create_success</td>\n",
       "      <td>ORG-7fcq2k7b4xg</td>\n",
       "      <td>PRJ0ypqfy9v4kii</td>\n",
       "      <td>USRqki2dkqwj6xj</td>\n",
       "      <td>2022-04-25</td>\n",
       "      <td>23:29:54</td>\n",
       "    </tr>\n",
       "    <tr>\n",
       "      <th>2</th>\n",
       "      <td>2022-04-25 23:29:54</td>\n",
       "      <td>task_creation</td>\n",
       "      <td>ORG-7fcq2k7b4xg</td>\n",
       "      <td>PRJ0ypqfy9v4kii</td>\n",
       "      <td>USRqki2dkqwj6xj</td>\n",
       "      <td>2022-04-25</td>\n",
       "      <td>23:29:54</td>\n",
       "    </tr>\n",
       "    <tr>\n",
       "      <th>3</th>\n",
       "      <td>2022-04-25 23:28:23</td>\n",
       "      <td>project_creation_request_success</td>\n",
       "      <td>ORG-7fcq2k7b4xg</td>\n",
       "      <td>PRJfk9dy2gb6dhp</td>\n",
       "      <td>USRqki2dkqwj6xj</td>\n",
       "      <td>2022-04-25</td>\n",
       "      <td>23:28:23</td>\n",
       "    </tr>\n",
       "    <tr>\n",
       "      <th>4</th>\n",
       "      <td>2022-03-22 20:40:20</td>\n",
       "      <td>task_log_create_success</td>\n",
       "      <td>ORG-iluuim4club</td>\n",
       "      <td>PRJ1jrd11tr99dc</td>\n",
       "      <td>USRcsxgn7-vnztk</td>\n",
       "      <td>2022-03-22</td>\n",
       "      <td>20:40:20</td>\n",
       "    </tr>\n",
       "  </tbody>\n",
       "</table>\n",
       "</div>"
      ],
      "text/plain": [
       "      created_at_time                             event           org_id  \\\n",
       "0 2022-04-20 18:24:30  project_creation_request_success  ORG-2nufoaj370k   \n",
       "1 2022-04-25 23:29:54           task_log_create_success  ORG-7fcq2k7b4xg   \n",
       "2 2022-04-25 23:29:54                     task_creation  ORG-7fcq2k7b4xg   \n",
       "3 2022-04-25 23:28:23  project_creation_request_success  ORG-7fcq2k7b4xg   \n",
       "4 2022-03-22 20:40:20           task_log_create_success  ORG-iluuim4club   \n",
       "\n",
       "        project_id          user_id        date      time  \n",
       "0  PRJ4k2kct6c5854  USRl50abktx6cc1  2022-04-20  18:24:30  \n",
       "1  PRJ0ypqfy9v4kii  USRqki2dkqwj6xj  2022-04-25  23:29:54  \n",
       "2  PRJ0ypqfy9v4kii  USRqki2dkqwj6xj  2022-04-25  23:29:54  \n",
       "3  PRJfk9dy2gb6dhp  USRqki2dkqwj6xj  2022-04-25  23:28:23  \n",
       "4  PRJ1jrd11tr99dc  USRcsxgn7-vnztk  2022-03-22  20:40:20  "
      ]
     },
     "execution_count": 7,
     "metadata": {},
     "output_type": "execute_result"
    }
   ],
   "source": [
    "events_df.head()"
   ]
  },
  {
   "cell_type": "code",
   "execution_count": 8,
   "id": "cea9087f",
   "metadata": {},
   "outputs": [
    {
     "data": {
      "text/plain": [
       "386"
      ]
     },
     "execution_count": 8,
     "metadata": {},
     "output_type": "execute_result"
    }
   ],
   "source": [
    "events_df['org_id'].unique().size"
   ]
  },
  {
   "cell_type": "code",
   "execution_count": 9,
   "id": "bb5e8c39",
   "metadata": {},
   "outputs": [
    {
     "data": {
      "text/plain": [
       "915"
      ]
     },
     "execution_count": 9,
     "metadata": {},
     "output_type": "execute_result"
    }
   ],
   "source": [
    "events_df['project_id'].unique().size"
   ]
  },
  {
   "cell_type": "code",
   "execution_count": 10,
   "id": "633aa48a",
   "metadata": {},
   "outputs": [
    {
     "data": {
      "text/plain": [
       "543"
      ]
     },
     "execution_count": 10,
     "metadata": {},
     "output_type": "execute_result"
    }
   ],
   "source": [
    "events_df['user_id'].unique().size"
   ]
  },
  {
   "cell_type": "code",
   "execution_count": 11,
   "id": "d916e269",
   "metadata": {},
   "outputs": [
    {
     "name": "stdout",
     "output_type": "stream",
     "text": [
      "<class 'pandas.core.frame.DataFrame'>\n",
      "RangeIndex: 41177 entries, 0 to 41176\n",
      "Data columns (total 7 columns):\n",
      " #   Column           Non-Null Count  Dtype         \n",
      "---  ------           --------------  -----         \n",
      " 0   created_at_time  41177 non-null  datetime64[ns]\n",
      " 1   event            41177 non-null  object        \n",
      " 2   org_id           41177 non-null  object        \n",
      " 3   project_id       41036 non-null  object        \n",
      " 4   user_id          41177 non-null  object        \n",
      " 5   date             41177 non-null  object        \n",
      " 6   time             41177 non-null  object        \n",
      "dtypes: datetime64[ns](1), object(6)\n",
      "memory usage: 2.2+ MB\n"
     ]
    }
   ],
   "source": [
    "events_df.info()"
   ]
  },
  {
   "cell_type": "code",
   "execution_count": 12,
   "id": "4da42a77",
   "metadata": {},
   "outputs": [],
   "source": [
    "events_df.dropna(axis = 'index',inplace= True)"
   ]
  },
  {
   "cell_type": "code",
   "execution_count": 13,
   "id": "ecf1f1cb",
   "metadata": {},
   "outputs": [
    {
     "name": "stdout",
     "output_type": "stream",
     "text": [
      "<class 'pandas.core.frame.DataFrame'>\n",
      "Int64Index: 41036 entries, 0 to 41176\n",
      "Data columns (total 7 columns):\n",
      " #   Column           Non-Null Count  Dtype         \n",
      "---  ------           --------------  -----         \n",
      " 0   created_at_time  41036 non-null  datetime64[ns]\n",
      " 1   event            41036 non-null  object        \n",
      " 2   org_id           41036 non-null  object        \n",
      " 3   project_id       41036 non-null  object        \n",
      " 4   user_id          41036 non-null  object        \n",
      " 5   date             41036 non-null  object        \n",
      " 6   time             41036 non-null  object        \n",
      "dtypes: datetime64[ns](1), object(6)\n",
      "memory usage: 2.5+ MB\n"
     ]
    }
   ],
   "source": [
    "events_df.info()"
   ]
  },
  {
   "cell_type": "code",
   "execution_count": 14,
   "id": "6cb71e22",
   "metadata": {},
   "outputs": [],
   "source": [
    "events_df.drop(['created_at_time'],axis=1, inplace= True)"
   ]
  },
  {
   "cell_type": "code",
   "execution_count": 15,
   "id": "02d13508",
   "metadata": {},
   "outputs": [
    {
     "data": {
      "text/html": [
       "<div>\n",
       "<style scoped>\n",
       "    .dataframe tbody tr th:only-of-type {\n",
       "        vertical-align: middle;\n",
       "    }\n",
       "\n",
       "    .dataframe tbody tr th {\n",
       "        vertical-align: top;\n",
       "    }\n",
       "\n",
       "    .dataframe thead th {\n",
       "        text-align: right;\n",
       "    }\n",
       "</style>\n",
       "<table border=\"1\" class=\"dataframe\">\n",
       "  <thead>\n",
       "    <tr style=\"text-align: right;\">\n",
       "      <th></th>\n",
       "      <th>event</th>\n",
       "      <th>org_id</th>\n",
       "      <th>project_id</th>\n",
       "      <th>user_id</th>\n",
       "      <th>date</th>\n",
       "      <th>time</th>\n",
       "    </tr>\n",
       "  </thead>\n",
       "  <tbody>\n",
       "    <tr>\n",
       "      <th>0</th>\n",
       "      <td>project_creation_request_success</td>\n",
       "      <td>ORG-2nufoaj370k</td>\n",
       "      <td>PRJ4k2kct6c5854</td>\n",
       "      <td>USRl50abktx6cc1</td>\n",
       "      <td>2022-04-20</td>\n",
       "      <td>18:24:30</td>\n",
       "    </tr>\n",
       "    <tr>\n",
       "      <th>1</th>\n",
       "      <td>task_log_create_success</td>\n",
       "      <td>ORG-7fcq2k7b4xg</td>\n",
       "      <td>PRJ0ypqfy9v4kii</td>\n",
       "      <td>USRqki2dkqwj6xj</td>\n",
       "      <td>2022-04-25</td>\n",
       "      <td>23:29:54</td>\n",
       "    </tr>\n",
       "    <tr>\n",
       "      <th>2</th>\n",
       "      <td>task_creation</td>\n",
       "      <td>ORG-7fcq2k7b4xg</td>\n",
       "      <td>PRJ0ypqfy9v4kii</td>\n",
       "      <td>USRqki2dkqwj6xj</td>\n",
       "      <td>2022-04-25</td>\n",
       "      <td>23:29:54</td>\n",
       "    </tr>\n",
       "    <tr>\n",
       "      <th>3</th>\n",
       "      <td>project_creation_request_success</td>\n",
       "      <td>ORG-7fcq2k7b4xg</td>\n",
       "      <td>PRJfk9dy2gb6dhp</td>\n",
       "      <td>USRqki2dkqwj6xj</td>\n",
       "      <td>2022-04-25</td>\n",
       "      <td>23:28:23</td>\n",
       "    </tr>\n",
       "    <tr>\n",
       "      <th>4</th>\n",
       "      <td>task_log_create_success</td>\n",
       "      <td>ORG-iluuim4club</td>\n",
       "      <td>PRJ1jrd11tr99dc</td>\n",
       "      <td>USRcsxgn7-vnztk</td>\n",
       "      <td>2022-03-22</td>\n",
       "      <td>20:40:20</td>\n",
       "    </tr>\n",
       "  </tbody>\n",
       "</table>\n",
       "</div>"
      ],
      "text/plain": [
       "                              event           org_id       project_id  \\\n",
       "0  project_creation_request_success  ORG-2nufoaj370k  PRJ4k2kct6c5854   \n",
       "1           task_log_create_success  ORG-7fcq2k7b4xg  PRJ0ypqfy9v4kii   \n",
       "2                     task_creation  ORG-7fcq2k7b4xg  PRJ0ypqfy9v4kii   \n",
       "3  project_creation_request_success  ORG-7fcq2k7b4xg  PRJfk9dy2gb6dhp   \n",
       "4           task_log_create_success  ORG-iluuim4club  PRJ1jrd11tr99dc   \n",
       "\n",
       "           user_id        date      time  \n",
       "0  USRl50abktx6cc1  2022-04-20  18:24:30  \n",
       "1  USRqki2dkqwj6xj  2022-04-25  23:29:54  \n",
       "2  USRqki2dkqwj6xj  2022-04-25  23:29:54  \n",
       "3  USRqki2dkqwj6xj  2022-04-25  23:28:23  \n",
       "4  USRcsxgn7-vnztk  2022-03-22  20:40:20  "
      ]
     },
     "execution_count": 15,
     "metadata": {},
     "output_type": "execute_result"
    }
   ],
   "source": [
    "events_df.head()"
   ]
  },
  {
   "cell_type": "code",
   "execution_count": 16,
   "id": "0c65896f",
   "metadata": {},
   "outputs": [],
   "source": [
    "temp_time = pd.Series(events_df['time'])"
   ]
  },
  {
   "cell_type": "code",
   "execution_count": 17,
   "id": "74c1944e",
   "metadata": {},
   "outputs": [],
   "source": [
    "hour_df = temp_time.apply(lambda x: x.hour)"
   ]
  },
  {
   "cell_type": "code",
   "execution_count": 66,
   "id": "a97daac1",
   "metadata": {},
   "outputs": [
    {
     "data": {
      "text/plain": [
       "0        18\n",
       "1        23\n",
       "2        23\n",
       "3        23\n",
       "4        20\n",
       "         ..\n",
       "41172     8\n",
       "41173    10\n",
       "41174    17\n",
       "41175    23\n",
       "41176    23\n",
       "Name: time, Length: 41036, dtype: int64"
      ]
     },
     "execution_count": 66,
     "metadata": {},
     "output_type": "execute_result"
    }
   ],
   "source": [
    "hour_df"
   ]
  },
  {
   "cell_type": "code",
   "execution_count": 67,
   "id": "988905d9",
   "metadata": {},
   "outputs": [
    {
     "data": {
      "text/plain": [
       "11    4907\n",
       "10    4515\n",
       "12    4021\n",
       "17    3351\n",
       "16    3217\n",
       "18    2856\n",
       "15    2770\n",
       "9     2524\n",
       "14    2216\n",
       "19    2088\n",
       "13    1930\n",
       "8     1826\n",
       "21    1271\n",
       "20    1170\n",
       "7      736\n",
       "22     565\n",
       "23     486\n",
       "0      174\n",
       "6      130\n",
       "2       92\n",
       "1       88\n",
       "5       75\n",
       "4       14\n",
       "3       14\n",
       "Name: time, dtype: int64"
      ]
     },
     "execution_count": 67,
     "metadata": {},
     "output_type": "execute_result"
    }
   ],
   "source": [
    "hour_df.value_counts()"
   ]
  },
  {
   "cell_type": "code",
   "execution_count": 19,
   "id": "b0350af8",
   "metadata": {},
   "outputs": [
    {
     "name": "stderr",
     "output_type": "stream",
     "text": [
      "C:\\Users\\hp\\anaconda3\\lib\\site-packages\\seaborn\\_decorators.py:36: FutureWarning: Pass the following variable as a keyword arg: x. From version 0.12, the only valid positional argument will be `data`, and passing other arguments without an explicit keyword will result in an error or misinterpretation.\n",
      "  warnings.warn(\n"
     ]
    },
    {
     "data": {
      "text/plain": [
       "<AxesSubplot:title={'center':'No. of interactions Vs Time'}, xlabel='time', ylabel='count'>"
      ]
     },
     "execution_count": 19,
     "metadata": {},
     "output_type": "execute_result"
    },
    {
     "data": {
      "image/png": "[encoded data removed]",
      "text/plain": [
       "<Figure size 700x500 with 1 Axes>"
      ]
     },
     "metadata": {},
     "output_type": "display_data"
    }
   ],
   "source": [
    "# Interactions Vs Time\n",
    "plt.figure(figsize=(7,5))\n",
    "plt.title('No. of interactions Vs Time')\n",
    "sns.countplot(hour_df)"
   ]
  },
  {
   "cell_type": "code",
   "execution_count": 20,
   "id": "0403cc3d",
   "metadata": {},
   "outputs": [],
   "source": [
    "# finding the most occouring and least occouring event in the data "
   ]
  },
  {
   "cell_type": "code",
   "execution_count": 21,
   "id": "df79167c",
   "metadata": {},
   "outputs": [],
   "source": [
    "event_dir = {\n",
    "    'add_attendance_success': 1,\n",
    "    'assigned_people_on_task': 2,\n",
    "    'attendance_list_accessed': 3,\n",
    "    'channel_message_sent': 4,\n",
    "    'comment_create_success': 5,\n",
    "    'dashboard_view_success': 6,\n",
    "    'followup_button_clicked': 7,\n",
    "    'generate_report_success': 8,\n",
    "    'image_upload_success': 9,\n",
    "    'indent_create_success': 10,\n",
    "    'material_profile_material_load': 11,\n",
    "    'new_material_added': 12,\n",
    "    'project_creation_request_success': 13,\n",
    "    'stock_material_updated': 14,\n",
    "    'task_creation': 15,\n",
    "    'task_log_create_success': 16,\n",
    "    'thread_create_success': 17\n",
    "}\n",
    "\n"
   ]
  },
  {
   "cell_type": "code",
   "execution_count": 22,
   "id": "f84b32fe",
   "metadata": {},
   "outputs": [],
   "source": [
    "events_df['event_id']=events_df['event'].map(event_dir)"
   ]
  },
  {
   "cell_type": "code",
   "execution_count": 23,
   "id": "a5c364ed",
   "metadata": {},
   "outputs": [
    {
     "data": {
      "text/html": [
       "<div>\n",
       "<style scoped>\n",
       "    .dataframe tbody tr th:only-of-type {\n",
       "        vertical-align: middle;\n",
       "    }\n",
       "\n",
       "    .dataframe tbody tr th {\n",
       "        vertical-align: top;\n",
       "    }\n",
       "\n",
       "    .dataframe thead th {\n",
       "        text-align: right;\n",
       "    }\n",
       "</style>\n",
       "<table border=\"1\" class=\"dataframe\">\n",
       "  <thead>\n",
       "    <tr style=\"text-align: right;\">\n",
       "      <th></th>\n",
       "      <th>event</th>\n",
       "      <th>org_id</th>\n",
       "      <th>project_id</th>\n",
       "      <th>user_id</th>\n",
       "      <th>date</th>\n",
       "      <th>time</th>\n",
       "      <th>event_id</th>\n",
       "    </tr>\n",
       "  </thead>\n",
       "  <tbody>\n",
       "    <tr>\n",
       "      <th>0</th>\n",
       "      <td>project_creation_request_success</td>\n",
       "      <td>ORG-2nufoaj370k</td>\n",
       "      <td>PRJ4k2kct6c5854</td>\n",
       "      <td>USRl50abktx6cc1</td>\n",
       "      <td>2022-04-20</td>\n",
       "      <td>18:24:30</td>\n",
       "      <td>13</td>\n",
       "    </tr>\n",
       "    <tr>\n",
       "      <th>1</th>\n",
       "      <td>task_log_create_success</td>\n",
       "      <td>ORG-7fcq2k7b4xg</td>\n",
       "      <td>PRJ0ypqfy9v4kii</td>\n",
       "      <td>USRqki2dkqwj6xj</td>\n",
       "      <td>2022-04-25</td>\n",
       "      <td>23:29:54</td>\n",
       "      <td>16</td>\n",
       "    </tr>\n",
       "    <tr>\n",
       "      <th>2</th>\n",
       "      <td>task_creation</td>\n",
       "      <td>ORG-7fcq2k7b4xg</td>\n",
       "      <td>PRJ0ypqfy9v4kii</td>\n",
       "      <td>USRqki2dkqwj6xj</td>\n",
       "      <td>2022-04-25</td>\n",
       "      <td>23:29:54</td>\n",
       "      <td>15</td>\n",
       "    </tr>\n",
       "    <tr>\n",
       "      <th>3</th>\n",
       "      <td>project_creation_request_success</td>\n",
       "      <td>ORG-7fcq2k7b4xg</td>\n",
       "      <td>PRJfk9dy2gb6dhp</td>\n",
       "      <td>USRqki2dkqwj6xj</td>\n",
       "      <td>2022-04-25</td>\n",
       "      <td>23:28:23</td>\n",
       "      <td>13</td>\n",
       "    </tr>\n",
       "    <tr>\n",
       "      <th>4</th>\n",
       "      <td>task_log_create_success</td>\n",
       "      <td>ORG-iluuim4club</td>\n",
       "      <td>PRJ1jrd11tr99dc</td>\n",
       "      <td>USRcsxgn7-vnztk</td>\n",
       "      <td>2022-03-22</td>\n",
       "      <td>20:40:20</td>\n",
       "      <td>16</td>\n",
       "    </tr>\n",
       "  </tbody>\n",
       "</table>\n",
       "</div>"
      ],
      "text/plain": [
       "                              event           org_id       project_id  \\\n",
       "0  project_creation_request_success  ORG-2nufoaj370k  PRJ4k2kct6c5854   \n",
       "1           task_log_create_success  ORG-7fcq2k7b4xg  PRJ0ypqfy9v4kii   \n",
       "2                     task_creation  ORG-7fcq2k7b4xg  PRJ0ypqfy9v4kii   \n",
       "3  project_creation_request_success  ORG-7fcq2k7b4xg  PRJfk9dy2gb6dhp   \n",
       "4           task_log_create_success  ORG-iluuim4club  PRJ1jrd11tr99dc   \n",
       "\n",
       "           user_id        date      time  event_id  \n",
       "0  USRl50abktx6cc1  2022-04-20  18:24:30        13  \n",
       "1  USRqki2dkqwj6xj  2022-04-25  23:29:54        16  \n",
       "2  USRqki2dkqwj6xj  2022-04-25  23:29:54        15  \n",
       "3  USRqki2dkqwj6xj  2022-04-25  23:28:23        13  \n",
       "4  USRcsxgn7-vnztk  2022-03-22  20:40:20        16  "
      ]
     },
     "execution_count": 23,
     "metadata": {},
     "output_type": "execute_result"
    }
   ],
   "source": [
    "events_df.head()"
   ]
  },
  {
   "cell_type": "code",
   "execution_count": 24,
   "id": "5b97f6ab",
   "metadata": {},
   "outputs": [
    {
     "data": {
      "text/plain": [
       "<AxesSubplot:title={'center':'Most Occouring events'}, xlabel='event_id', ylabel='count'>"
      ]
     },
     "execution_count": 24,
     "metadata": {},
     "output_type": "execute_result"
    },
    {
     "data": {
      "image/png": "[encoded data removed]",
      "text/plain": [
       "<Figure size 1000x500 with 1 Axes>"
      ]
     },
     "metadata": {},
     "output_type": "display_data"
    }
   ],
   "source": [
    "plt.figure(figsize=(10,5))\n",
    "plt.title('Most Occouring events')\n",
    "sns.countplot(x='event_id',data=events_df)"
   ]
  },
  {
   "cell_type": "code",
   "execution_count": 69,
   "id": "9b7d6b5b",
   "metadata": {},
   "outputs": [
    {
     "data": {
      "text/plain": [
       "11    10113\n",
       "1      7566\n",
       "14     7272\n",
       "16     4989\n",
       "5      2024\n",
       "4      1837\n",
       "8      1692\n",
       "15     1595\n",
       "12     1243\n",
       "3       837\n",
       "13      618\n",
       "6       617\n",
       "2       289\n",
       "10      158\n",
       "17       93\n",
       "9        69\n",
       "7        24\n",
       "Name: event_id, dtype: int64"
      ]
     },
     "execution_count": 69,
     "metadata": {},
     "output_type": "execute_result"
    }
   ],
   "source": [
    "events_df['event_id'].value_counts()"
   ]
  },
  {
   "cell_type": "code",
   "execution_count": 25,
   "id": "7221f828",
   "metadata": {},
   "outputs": [],
   "source": [
    "# scatterplot for time vs event"
   ]
  },
  {
   "cell_type": "code",
   "execution_count": 26,
   "id": "0d7d5e45",
   "metadata": {},
   "outputs": [
    {
     "data": {
      "text/html": [
       "<div>\n",
       "<style scoped>\n",
       "    .dataframe tbody tr th:only-of-type {\n",
       "        vertical-align: middle;\n",
       "    }\n",
       "\n",
       "    .dataframe tbody tr th {\n",
       "        vertical-align: top;\n",
       "    }\n",
       "\n",
       "    .dataframe thead th {\n",
       "        text-align: right;\n",
       "    }\n",
       "</style>\n",
       "<table border=\"1\" class=\"dataframe\">\n",
       "  <thead>\n",
       "    <tr style=\"text-align: right;\">\n",
       "      <th></th>\n",
       "      <th>time</th>\n",
       "      <th>Event</th>\n",
       "    </tr>\n",
       "  </thead>\n",
       "  <tbody>\n",
       "    <tr>\n",
       "      <th>0</th>\n",
       "      <td>18:24:30</td>\n",
       "      <td>13</td>\n",
       "    </tr>\n",
       "    <tr>\n",
       "      <th>1</th>\n",
       "      <td>23:29:54</td>\n",
       "      <td>16</td>\n",
       "    </tr>\n",
       "    <tr>\n",
       "      <th>2</th>\n",
       "      <td>23:29:54</td>\n",
       "      <td>15</td>\n",
       "    </tr>\n",
       "    <tr>\n",
       "      <th>3</th>\n",
       "      <td>23:28:23</td>\n",
       "      <td>13</td>\n",
       "    </tr>\n",
       "    <tr>\n",
       "      <th>4</th>\n",
       "      <td>20:40:20</td>\n",
       "      <td>16</td>\n",
       "    </tr>\n",
       "  </tbody>\n",
       "</table>\n",
       "</div>"
      ],
      "text/plain": [
       "       time  Event\n",
       "0  18:24:30     13\n",
       "1  23:29:54     16\n",
       "2  23:29:54     15\n",
       "3  23:28:23     13\n",
       "4  20:40:20     16"
      ]
     },
     "execution_count": 26,
     "metadata": {},
     "output_type": "execute_result"
    }
   ],
   "source": [
    "time_event = pd.DataFrame({'time':events_df['time'],'Event':events_df['event_id']})\n",
    "time_event.head()"
   ]
  },
  {
   "cell_type": "code",
   "execution_count": 27,
   "id": "a226a6bb",
   "metadata": {},
   "outputs": [],
   "source": [
    "time_event['time'] = time_event['time'].apply(lambda x: x.hour)"
   ]
  },
  {
   "cell_type": "code",
   "execution_count": 28,
   "id": "9c078062",
   "metadata": {},
   "outputs": [
    {
     "data": {
      "text/html": [
       "<div>\n",
       "<style scoped>\n",
       "    .dataframe tbody tr th:only-of-type {\n",
       "        vertical-align: middle;\n",
       "    }\n",
       "\n",
       "    .dataframe tbody tr th {\n",
       "        vertical-align: top;\n",
       "    }\n",
       "\n",
       "    .dataframe thead th {\n",
       "        text-align: right;\n",
       "    }\n",
       "</style>\n",
       "<table border=\"1\" class=\"dataframe\">\n",
       "  <thead>\n",
       "    <tr style=\"text-align: right;\">\n",
       "      <th></th>\n",
       "      <th>time</th>\n",
       "      <th>Event</th>\n",
       "    </tr>\n",
       "  </thead>\n",
       "  <tbody>\n",
       "    <tr>\n",
       "      <th>0</th>\n",
       "      <td>18</td>\n",
       "      <td>13</td>\n",
       "    </tr>\n",
       "    <tr>\n",
       "      <th>1</th>\n",
       "      <td>23</td>\n",
       "      <td>16</td>\n",
       "    </tr>\n",
       "    <tr>\n",
       "      <th>2</th>\n",
       "      <td>23</td>\n",
       "      <td>15</td>\n",
       "    </tr>\n",
       "    <tr>\n",
       "      <th>3</th>\n",
       "      <td>23</td>\n",
       "      <td>13</td>\n",
       "    </tr>\n",
       "    <tr>\n",
       "      <th>4</th>\n",
       "      <td>20</td>\n",
       "      <td>16</td>\n",
       "    </tr>\n",
       "  </tbody>\n",
       "</table>\n",
       "</div>"
      ],
      "text/plain": [
       "   time  Event\n",
       "0    18     13\n",
       "1    23     16\n",
       "2    23     15\n",
       "3    23     13\n",
       "4    20     16"
      ]
     },
     "execution_count": 28,
     "metadata": {},
     "output_type": "execute_result"
    }
   ],
   "source": [
    "time_event.head()"
   ]
  },
  {
   "cell_type": "code",
   "execution_count": 29,
   "id": "ded77837",
   "metadata": {},
   "outputs": [
    {
     "data": {
      "text/plain": [
       "<seaborn.axisgrid.PairGrid at 0x1a3d9808a60>"
      ]
     },
     "execution_count": 29,
     "metadata": {},
     "output_type": "execute_result"
    },
    {
     "data": {
      "text/plain": [
       "<Figure size 1000x1000 with 0 Axes>"
      ]
     },
     "metadata": {},
     "output_type": "display_data"
    },
    {
     "data": {
      "image/png": "[encoded data removed]",
      "text/plain": [
       "<Figure size 500x500 with 6 Axes>"
      ]
     },
     "metadata": {},
     "output_type": "display_data"
    }
   ],
   "source": [
    "plt.figure(figsize=(10,10))\n",
    "sns.pairplot(data = time_event)"
   ]
  },
  {
   "cell_type": "code",
   "execution_count": 30,
   "id": "edd30497",
   "metadata": {},
   "outputs": [],
   "source": [
    "# for the 20 most active users we find out there behaviour "
   ]
  },
  {
   "cell_type": "code",
   "execution_count": 31,
   "id": "2999f05e",
   "metadata": {},
   "outputs": [],
   "source": [
    "active_users = events_df['user_id'].value_counts().reset_index()"
   ]
  },
  {
   "cell_type": "code",
   "execution_count": 32,
   "id": "47d3c550",
   "metadata": {},
   "outputs": [
    {
     "data": {
      "text/html": [
       "<div>\n",
       "<style scoped>\n",
       "    .dataframe tbody tr th:only-of-type {\n",
       "        vertical-align: middle;\n",
       "    }\n",
       "\n",
       "    .dataframe tbody tr th {\n",
       "        vertical-align: top;\n",
       "    }\n",
       "\n",
       "    .dataframe thead th {\n",
       "        text-align: right;\n",
       "    }\n",
       "</style>\n",
       "<table border=\"1\" class=\"dataframe\">\n",
       "  <thead>\n",
       "    <tr style=\"text-align: right;\">\n",
       "      <th></th>\n",
       "      <th>user_id</th>\n",
       "      <th>count</th>\n",
       "    </tr>\n",
       "  </thead>\n",
       "  <tbody>\n",
       "    <tr>\n",
       "      <th>0</th>\n",
       "      <td>USR509149973276</td>\n",
       "      <td>9594</td>\n",
       "    </tr>\n",
       "    <tr>\n",
       "      <th>1</th>\n",
       "      <td>USR395096428126</td>\n",
       "      <td>2608</td>\n",
       "    </tr>\n",
       "    <tr>\n",
       "      <th>2</th>\n",
       "      <td>USR659222931763</td>\n",
       "      <td>2028</td>\n",
       "    </tr>\n",
       "    <tr>\n",
       "      <th>3</th>\n",
       "      <td>USR594255074022</td>\n",
       "      <td>1308</td>\n",
       "    </tr>\n",
       "    <tr>\n",
       "      <th>4</th>\n",
       "      <td>USR660555701919</td>\n",
       "      <td>1280</td>\n",
       "    </tr>\n",
       "  </tbody>\n",
       "</table>\n",
       "</div>"
      ],
      "text/plain": [
       "           user_id  count\n",
       "0  USR509149973276   9594\n",
       "1  USR395096428126   2608\n",
       "2  USR659222931763   2028\n",
       "3  USR594255074022   1308\n",
       "4  USR660555701919   1280"
      ]
     },
     "execution_count": 32,
     "metadata": {},
     "output_type": "execute_result"
    }
   ],
   "source": [
    "active_users.columns = ['user_id','count']\n",
    "active_users = active_users.sort_values(by='count',ascending=False)\n",
    "active_users.head()"
   ]
  },
  {
   "cell_type": "code",
   "execution_count": 33,
   "id": "99251413",
   "metadata": {},
   "outputs": [],
   "source": [
    "top50users = active_users.head(50)"
   ]
  },
  {
   "cell_type": "code",
   "execution_count": 34,
   "id": "c80ddcb9",
   "metadata": {},
   "outputs": [],
   "source": [
    "topusers = events_df[events_df['user_id'].isin(top50users['user_id'])]"
   ]
  },
  {
   "cell_type": "code",
   "execution_count": 35,
   "id": "973aa50a",
   "metadata": {},
   "outputs": [
    {
     "data": {
      "text/html": [
       "<div>\n",
       "<style scoped>\n",
       "    .dataframe tbody tr th:only-of-type {\n",
       "        vertical-align: middle;\n",
       "    }\n",
       "\n",
       "    .dataframe tbody tr th {\n",
       "        vertical-align: top;\n",
       "    }\n",
       "\n",
       "    .dataframe thead th {\n",
       "        text-align: right;\n",
       "    }\n",
       "</style>\n",
       "<table border=\"1\" class=\"dataframe\">\n",
       "  <thead>\n",
       "    <tr style=\"text-align: right;\">\n",
       "      <th></th>\n",
       "      <th>event</th>\n",
       "      <th>org_id</th>\n",
       "      <th>project_id</th>\n",
       "      <th>user_id</th>\n",
       "      <th>date</th>\n",
       "      <th>time</th>\n",
       "      <th>event_id</th>\n",
       "    </tr>\n",
       "  </thead>\n",
       "  <tbody>\n",
       "    <tr>\n",
       "      <th>88</th>\n",
       "      <td>stock_material_updated</td>\n",
       "      <td>ORG008455263549</td>\n",
       "      <td>PRJ113905173253</td>\n",
       "      <td>USRk2jbsvl2yrex</td>\n",
       "      <td>2022-08-11</td>\n",
       "      <td>18:25:46</td>\n",
       "      <td>14</td>\n",
       "    </tr>\n",
       "    <tr>\n",
       "      <th>89</th>\n",
       "      <td>stock_material_updated</td>\n",
       "      <td>ORG008455263549</td>\n",
       "      <td>PRJ113905173253</td>\n",
       "      <td>USRk2jbsvl2yrex</td>\n",
       "      <td>2022-08-11</td>\n",
       "      <td>18:26:23</td>\n",
       "      <td>14</td>\n",
       "    </tr>\n",
       "    <tr>\n",
       "      <th>90</th>\n",
       "      <td>stock_material_updated</td>\n",
       "      <td>ORG008455263549</td>\n",
       "      <td>PRJ113905173253</td>\n",
       "      <td>USRk2jbsvl2yrex</td>\n",
       "      <td>2022-08-13</td>\n",
       "      <td>11:13:52</td>\n",
       "      <td>14</td>\n",
       "    </tr>\n",
       "    <tr>\n",
       "      <th>91</th>\n",
       "      <td>stock_material_updated</td>\n",
       "      <td>ORG008455263549</td>\n",
       "      <td>PRJ113905173253</td>\n",
       "      <td>USRk2jbsvl2yrex</td>\n",
       "      <td>2022-08-13</td>\n",
       "      <td>12:03:11</td>\n",
       "      <td>14</td>\n",
       "    </tr>\n",
       "    <tr>\n",
       "      <th>92</th>\n",
       "      <td>stock_material_updated</td>\n",
       "      <td>ORG008455263549</td>\n",
       "      <td>PRJ113905173253</td>\n",
       "      <td>USRk2jbsvl2yrex</td>\n",
       "      <td>2022-08-13</td>\n",
       "      <td>12:03:27</td>\n",
       "      <td>14</td>\n",
       "    </tr>\n",
       "  </tbody>\n",
       "</table>\n",
       "</div>"
      ],
      "text/plain": [
       "                     event           org_id       project_id          user_id  \\\n",
       "88  stock_material_updated  ORG008455263549  PRJ113905173253  USRk2jbsvl2yrex   \n",
       "89  stock_material_updated  ORG008455263549  PRJ113905173253  USRk2jbsvl2yrex   \n",
       "90  stock_material_updated  ORG008455263549  PRJ113905173253  USRk2jbsvl2yrex   \n",
       "91  stock_material_updated  ORG008455263549  PRJ113905173253  USRk2jbsvl2yrex   \n",
       "92  stock_material_updated  ORG008455263549  PRJ113905173253  USRk2jbsvl2yrex   \n",
       "\n",
       "          date      time  event_id  \n",
       "88  2022-08-11  18:25:46        14  \n",
       "89  2022-08-11  18:26:23        14  \n",
       "90  2022-08-13  11:13:52        14  \n",
       "91  2022-08-13  12:03:11        14  \n",
       "92  2022-08-13  12:03:27        14  "
      ]
     },
     "execution_count": 35,
     "metadata": {},
     "output_type": "execute_result"
    }
   ],
   "source": [
    "topusers.head()"
   ]
  },
  {
   "cell_type": "code",
   "execution_count": 36,
   "id": "c14ea421",
   "metadata": {},
   "outputs": [
    {
     "data": {
      "text/plain": [
       "<AxesSubplot:xlabel='event_id', ylabel='count'>"
      ]
     },
     "execution_count": 36,
     "metadata": {},
     "output_type": "execute_result"
    },
    {
     "data": {
      "image/png": "[encoded data removed]",
      "text/plain": [
       "<Figure size 640x480 with 1 Axes>"
      ]
     },
     "metadata": {},
     "output_type": "display_data"
    }
   ],
   "source": [
    "sns.countplot(x='event_id',data= topusers)"
   ]
  },
  {
   "cell_type": "code",
   "execution_count": 37,
   "id": "f82360c6",
   "metadata": {},
   "outputs": [
    {
     "data": {
      "text/html": [
       "<div>\n",
       "<style scoped>\n",
       "    .dataframe tbody tr th:only-of-type {\n",
       "        vertical-align: middle;\n",
       "    }\n",
       "\n",
       "    .dataframe tbody tr th {\n",
       "        vertical-align: top;\n",
       "    }\n",
       "\n",
       "    .dataframe thead th {\n",
       "        text-align: right;\n",
       "    }\n",
       "</style>\n",
       "<table border=\"1\" class=\"dataframe\">\n",
       "  <thead>\n",
       "    <tr style=\"text-align: right;\">\n",
       "      <th></th>\n",
       "      <th>event</th>\n",
       "      <th>org_id</th>\n",
       "      <th>project_id</th>\n",
       "      <th>user_id</th>\n",
       "      <th>date</th>\n",
       "      <th>time</th>\n",
       "      <th>event_id</th>\n",
       "    </tr>\n",
       "  </thead>\n",
       "  <tbody>\n",
       "    <tr>\n",
       "      <th>0</th>\n",
       "      <td>project_creation_request_success</td>\n",
       "      <td>ORG-2nufoaj370k</td>\n",
       "      <td>PRJ4k2kct6c5854</td>\n",
       "      <td>USRl50abktx6cc1</td>\n",
       "      <td>2022-04-20</td>\n",
       "      <td>18:24:30</td>\n",
       "      <td>13</td>\n",
       "    </tr>\n",
       "    <tr>\n",
       "      <th>1</th>\n",
       "      <td>task_log_create_success</td>\n",
       "      <td>ORG-7fcq2k7b4xg</td>\n",
       "      <td>PRJ0ypqfy9v4kii</td>\n",
       "      <td>USRqki2dkqwj6xj</td>\n",
       "      <td>2022-04-25</td>\n",
       "      <td>23:29:54</td>\n",
       "      <td>16</td>\n",
       "    </tr>\n",
       "    <tr>\n",
       "      <th>2</th>\n",
       "      <td>task_creation</td>\n",
       "      <td>ORG-7fcq2k7b4xg</td>\n",
       "      <td>PRJ0ypqfy9v4kii</td>\n",
       "      <td>USRqki2dkqwj6xj</td>\n",
       "      <td>2022-04-25</td>\n",
       "      <td>23:29:54</td>\n",
       "      <td>15</td>\n",
       "    </tr>\n",
       "    <tr>\n",
       "      <th>3</th>\n",
       "      <td>project_creation_request_success</td>\n",
       "      <td>ORG-7fcq2k7b4xg</td>\n",
       "      <td>PRJfk9dy2gb6dhp</td>\n",
       "      <td>USRqki2dkqwj6xj</td>\n",
       "      <td>2022-04-25</td>\n",
       "      <td>23:28:23</td>\n",
       "      <td>13</td>\n",
       "    </tr>\n",
       "    <tr>\n",
       "      <th>4</th>\n",
       "      <td>task_log_create_success</td>\n",
       "      <td>ORG-iluuim4club</td>\n",
       "      <td>PRJ1jrd11tr99dc</td>\n",
       "      <td>USRcsxgn7-vnztk</td>\n",
       "      <td>2022-03-22</td>\n",
       "      <td>20:40:20</td>\n",
       "      <td>16</td>\n",
       "    </tr>\n",
       "  </tbody>\n",
       "</table>\n",
       "</div>"
      ],
      "text/plain": [
       "                              event           org_id       project_id  \\\n",
       "0  project_creation_request_success  ORG-2nufoaj370k  PRJ4k2kct6c5854   \n",
       "1           task_log_create_success  ORG-7fcq2k7b4xg  PRJ0ypqfy9v4kii   \n",
       "2                     task_creation  ORG-7fcq2k7b4xg  PRJ0ypqfy9v4kii   \n",
       "3  project_creation_request_success  ORG-7fcq2k7b4xg  PRJfk9dy2gb6dhp   \n",
       "4           task_log_create_success  ORG-iluuim4club  PRJ1jrd11tr99dc   \n",
       "\n",
       "           user_id        date      time  event_id  \n",
       "0  USRl50abktx6cc1  2022-04-20  18:24:30        13  \n",
       "1  USRqki2dkqwj6xj  2022-04-25  23:29:54        16  \n",
       "2  USRqki2dkqwj6xj  2022-04-25  23:29:54        15  \n",
       "3  USRqki2dkqwj6xj  2022-04-25  23:28:23        13  \n",
       "4  USRcsxgn7-vnztk  2022-03-22  20:40:20        16  "
      ]
     },
     "execution_count": 37,
     "metadata": {},
     "output_type": "execute_result"
    }
   ],
   "source": [
    "restusers = events_df[~events_df['user_id'].isin(topusers['user_id'])]\n",
    "restusers.head()"
   ]
  },
  {
   "cell_type": "code",
   "execution_count": 38,
   "id": "ab670212",
   "metadata": {},
   "outputs": [
    {
     "data": {
      "text/plain": [
       "<AxesSubplot:xlabel='event_id', ylabel='count'>"
      ]
     },
     "execution_count": 38,
     "metadata": {},
     "output_type": "execute_result"
    },
    {
     "data": {
      "image/png": "[encoded data removed]",
      "text/plain": [
       "<Figure size 640x480 with 1 Axes>"
      ]
     },
     "metadata": {},
     "output_type": "display_data"
    }
   ],
   "source": [
    "sns.countplot(x='event_id',data = restusers)"
   ]
  },
  {
   "cell_type": "code",
   "execution_count": 39,
   "id": "b13bc05c",
   "metadata": {},
   "outputs": [],
   "source": [
    "topuseractivity = topusers['event_id'].value_counts().reset_index()\n",
    "topuseractivity.columns= ['event_id','count']\n",
    "topuseractivity=topuseractivity.sort_values(by='count',ascending =False)"
   ]
  },
  {
   "cell_type": "code",
   "execution_count": 40,
   "id": "82781f04",
   "metadata": {},
   "outputs": [
    {
     "data": {
      "text/html": [
       "<div>\n",
       "<style scoped>\n",
       "    .dataframe tbody tr th:only-of-type {\n",
       "        vertical-align: middle;\n",
       "    }\n",
       "\n",
       "    .dataframe tbody tr th {\n",
       "        vertical-align: top;\n",
       "    }\n",
       "\n",
       "    .dataframe thead th {\n",
       "        text-align: right;\n",
       "    }\n",
       "</style>\n",
       "<table border=\"1\" class=\"dataframe\">\n",
       "  <thead>\n",
       "    <tr style=\"text-align: right;\">\n",
       "      <th></th>\n",
       "      <th>event_id</th>\n",
       "      <th>count</th>\n",
       "    </tr>\n",
       "  </thead>\n",
       "  <tbody>\n",
       "    <tr>\n",
       "      <th>0</th>\n",
       "      <td>11</td>\n",
       "      <td>9432</td>\n",
       "    </tr>\n",
       "    <tr>\n",
       "      <th>1</th>\n",
       "      <td>1</td>\n",
       "      <td>6930</td>\n",
       "    </tr>\n",
       "    <tr>\n",
       "      <th>2</th>\n",
       "      <td>14</td>\n",
       "      <td>6835</td>\n",
       "    </tr>\n",
       "    <tr>\n",
       "      <th>3</th>\n",
       "      <td>16</td>\n",
       "      <td>3793</td>\n",
       "    </tr>\n",
       "    <tr>\n",
       "      <th>4</th>\n",
       "      <td>5</td>\n",
       "      <td>1783</td>\n",
       "    </tr>\n",
       "    <tr>\n",
       "      <th>5</th>\n",
       "      <td>4</td>\n",
       "      <td>1625</td>\n",
       "    </tr>\n",
       "    <tr>\n",
       "      <th>6</th>\n",
       "      <td>15</td>\n",
       "      <td>1047</td>\n",
       "    </tr>\n",
       "    <tr>\n",
       "      <th>7</th>\n",
       "      <td>8</td>\n",
       "      <td>798</td>\n",
       "    </tr>\n",
       "    <tr>\n",
       "      <th>8</th>\n",
       "      <td>12</td>\n",
       "      <td>749</td>\n",
       "    </tr>\n",
       "    <tr>\n",
       "      <th>9</th>\n",
       "      <td>3</td>\n",
       "      <td>651</td>\n",
       "    </tr>\n",
       "    <tr>\n",
       "      <th>10</th>\n",
       "      <td>6</td>\n",
       "      <td>350</td>\n",
       "    </tr>\n",
       "    <tr>\n",
       "      <th>11</th>\n",
       "      <td>2</td>\n",
       "      <td>204</td>\n",
       "    </tr>\n",
       "    <tr>\n",
       "      <th>12</th>\n",
       "      <td>10</td>\n",
       "      <td>130</td>\n",
       "    </tr>\n",
       "    <tr>\n",
       "      <th>13</th>\n",
       "      <td>13</td>\n",
       "      <td>123</td>\n",
       "    </tr>\n",
       "    <tr>\n",
       "      <th>14</th>\n",
       "      <td>9</td>\n",
       "      <td>51</td>\n",
       "    </tr>\n",
       "    <tr>\n",
       "      <th>15</th>\n",
       "      <td>17</td>\n",
       "      <td>47</td>\n",
       "    </tr>\n",
       "    <tr>\n",
       "      <th>16</th>\n",
       "      <td>7</td>\n",
       "      <td>6</td>\n",
       "    </tr>\n",
       "  </tbody>\n",
       "</table>\n",
       "</div>"
      ],
      "text/plain": [
       "    event_id  count\n",
       "0         11   9432\n",
       "1          1   6930\n",
       "2         14   6835\n",
       "3         16   3793\n",
       "4          5   1783\n",
       "5          4   1625\n",
       "6         15   1047\n",
       "7          8    798\n",
       "8         12    749\n",
       "9          3    651\n",
       "10         6    350\n",
       "11         2    204\n",
       "12        10    130\n",
       "13        13    123\n",
       "14         9     51\n",
       "15        17     47\n",
       "16         7      6"
      ]
     },
     "execution_count": 40,
     "metadata": {},
     "output_type": "execute_result"
    }
   ],
   "source": [
    "topuseractivity"
   ]
  },
  {
   "cell_type": "code",
   "execution_count": 41,
   "id": "3bdad37d",
   "metadata": {},
   "outputs": [],
   "source": [
    "nonuseractivity = restusers['event_id'].value_counts().reset_index()\n",
    "nonuseractivity.columns= ['event_id','count']\n",
    "nonuseractivity=nonuseractivity.sort_values(by='count',ascending =False)"
   ]
  },
  {
   "cell_type": "code",
   "execution_count": 42,
   "id": "aa79fc05",
   "metadata": {},
   "outputs": [
    {
     "data": {
      "text/html": [
       "<div>\n",
       "<style scoped>\n",
       "    .dataframe tbody tr th:only-of-type {\n",
       "        vertical-align: middle;\n",
       "    }\n",
       "\n",
       "    .dataframe tbody tr th {\n",
       "        vertical-align: top;\n",
       "    }\n",
       "\n",
       "    .dataframe thead th {\n",
       "        text-align: right;\n",
       "    }\n",
       "</style>\n",
       "<table border=\"1\" class=\"dataframe\">\n",
       "  <thead>\n",
       "    <tr style=\"text-align: right;\">\n",
       "      <th></th>\n",
       "      <th>event_id</th>\n",
       "      <th>count</th>\n",
       "    </tr>\n",
       "  </thead>\n",
       "  <tbody>\n",
       "    <tr>\n",
       "      <th>0</th>\n",
       "      <td>16</td>\n",
       "      <td>1196</td>\n",
       "    </tr>\n",
       "    <tr>\n",
       "      <th>1</th>\n",
       "      <td>8</td>\n",
       "      <td>894</td>\n",
       "    </tr>\n",
       "    <tr>\n",
       "      <th>2</th>\n",
       "      <td>11</td>\n",
       "      <td>681</td>\n",
       "    </tr>\n",
       "    <tr>\n",
       "      <th>3</th>\n",
       "      <td>1</td>\n",
       "      <td>636</td>\n",
       "    </tr>\n",
       "    <tr>\n",
       "      <th>4</th>\n",
       "      <td>15</td>\n",
       "      <td>548</td>\n",
       "    </tr>\n",
       "    <tr>\n",
       "      <th>5</th>\n",
       "      <td>13</td>\n",
       "      <td>495</td>\n",
       "    </tr>\n",
       "    <tr>\n",
       "      <th>6</th>\n",
       "      <td>12</td>\n",
       "      <td>494</td>\n",
       "    </tr>\n",
       "    <tr>\n",
       "      <th>7</th>\n",
       "      <td>14</td>\n",
       "      <td>437</td>\n",
       "    </tr>\n",
       "    <tr>\n",
       "      <th>8</th>\n",
       "      <td>6</td>\n",
       "      <td>267</td>\n",
       "    </tr>\n",
       "    <tr>\n",
       "      <th>9</th>\n",
       "      <td>5</td>\n",
       "      <td>241</td>\n",
       "    </tr>\n",
       "    <tr>\n",
       "      <th>10</th>\n",
       "      <td>4</td>\n",
       "      <td>212</td>\n",
       "    </tr>\n",
       "    <tr>\n",
       "      <th>11</th>\n",
       "      <td>3</td>\n",
       "      <td>186</td>\n",
       "    </tr>\n",
       "    <tr>\n",
       "      <th>12</th>\n",
       "      <td>2</td>\n",
       "      <td>85</td>\n",
       "    </tr>\n",
       "    <tr>\n",
       "      <th>13</th>\n",
       "      <td>17</td>\n",
       "      <td>46</td>\n",
       "    </tr>\n",
       "    <tr>\n",
       "      <th>14</th>\n",
       "      <td>10</td>\n",
       "      <td>28</td>\n",
       "    </tr>\n",
       "    <tr>\n",
       "      <th>15</th>\n",
       "      <td>9</td>\n",
       "      <td>18</td>\n",
       "    </tr>\n",
       "    <tr>\n",
       "      <th>16</th>\n",
       "      <td>7</td>\n",
       "      <td>18</td>\n",
       "    </tr>\n",
       "  </tbody>\n",
       "</table>\n",
       "</div>"
      ],
      "text/plain": [
       "    event_id  count\n",
       "0         16   1196\n",
       "1          8    894\n",
       "2         11    681\n",
       "3          1    636\n",
       "4         15    548\n",
       "5         13    495\n",
       "6         12    494\n",
       "7         14    437\n",
       "8          6    267\n",
       "9          5    241\n",
       "10         4    212\n",
       "11         3    186\n",
       "12         2     85\n",
       "13        17     46\n",
       "14        10     28\n",
       "15         9     18\n",
       "16         7     18"
      ]
     },
     "execution_count": 42,
     "metadata": {},
     "output_type": "execute_result"
    }
   ],
   "source": [
    "nonuseractivity"
   ]
  },
  {
   "cell_type": "code",
   "execution_count": 70,
   "id": "35365a2c",
   "metadata": {},
   "outputs": [
    {
     "data": {
      "image/png": "[encoded data removed]",
      "text/plain": [
       "<Figure size 1000x500 with 2 Axes>"
      ]
     },
     "metadata": {},
     "output_type": "display_data"
    }
   ],
   "source": [
    "\n",
    "plt.figure(figsize=(10, 5))\n",
    "ax1 = sns.lineplot(x='event_id', y='count', data=nonuseractivity, label='Rest User Activity')\n",
    "\n",
    "ax2 = ax1.twinx()\n",
    "\n",
    "sns.barplot(x='event_id', y='count', data=topuseractivity, ax=ax2, color='orange', alpha=0.7, label='Top 50 user activity')\n",
    "\n",
    "ax1.legend(loc='upper left') \n",
    "ax2.legend(loc='upper right')\n",
    "plt.show()\n"
   ]
  },
  {
   "cell_type": "code",
   "execution_count": 44,
   "id": "ee669467",
   "metadata": {},
   "outputs": [],
   "source": [
    "events_df['date'] = pd.to_datetime(events_df['date'])\n",
    "events_df['quarter'] = events_df['date'].dt.to_period('Q')"
   ]
  },
  {
   "cell_type": "code",
   "execution_count": 45,
   "id": "ade6225a",
   "metadata": {},
   "outputs": [],
   "source": [
    "quarter_order = sorted(events_df['quarter'].unique())\n",
    "\n",
    "events_df['quarter'] = pd.Categorical(events_df['quarter'],categories=quarter_order, ordered=True)"
   ]
  },
  {
   "cell_type": "code",
   "execution_count": 65,
   "id": "82da41b8",
   "metadata": {},
   "outputs": [
    {
     "data": {
      "text/plain": [
       "2022Q2    14230\n",
       "2022Q3     8519\n",
       "2022Q1     8039\n",
       "2022Q4     7394\n",
       "2023Q1     2854\n",
       "Name: quarter, dtype: int64"
      ]
     },
     "execution_count": 65,
     "metadata": {},
     "output_type": "execute_result"
    }
   ],
   "source": [
    "events_df['quarter'].value_counts()"
   ]
  },
  {
   "cell_type": "code",
   "execution_count": 46,
   "id": "e915f28f",
   "metadata": {},
   "outputs": [
    {
     "data": {
      "text/plain": [
       "<AxesSubplot:xlabel='quarter', ylabel='count'>"
      ]
     },
     "execution_count": 46,
     "metadata": {},
     "output_type": "execute_result"
    },
    {
     "data": {
      "image/png": "[encoded data removed]",
      "text/plain": [
       "<Figure size 1000x500 with 1 Axes>"
      ]
     },
     "metadata": {},
     "output_type": "display_data"
    }
   ],
   "source": [
    "plt.figure(figsize=(10,5))\n",
    "sns.countplot(x='quarter',data=events_df)"
   ]
  },
  {
   "cell_type": "code",
   "execution_count": 47,
   "id": "75014269",
   "metadata": {},
   "outputs": [],
   "source": [
    "# use case of top 50 org_id and the rest of  organisations"
   ]
  },
  {
   "cell_type": "code",
   "execution_count": 48,
   "id": "34965d13",
   "metadata": {},
   "outputs": [
    {
     "data": {
      "text/html": [
       "<div>\n",
       "<style scoped>\n",
       "    .dataframe tbody tr th:only-of-type {\n",
       "        vertical-align: middle;\n",
       "    }\n",
       "\n",
       "    .dataframe tbody tr th {\n",
       "        vertical-align: top;\n",
       "    }\n",
       "\n",
       "    .dataframe thead th {\n",
       "        text-align: right;\n",
       "    }\n",
       "</style>\n",
       "<table border=\"1\" class=\"dataframe\">\n",
       "  <thead>\n",
       "    <tr style=\"text-align: right;\">\n",
       "      <th></th>\n",
       "      <th>org_id</th>\n",
       "      <th>count</th>\n",
       "    </tr>\n",
       "  </thead>\n",
       "  <tbody>\n",
       "    <tr>\n",
       "      <th>0</th>\n",
       "      <td>ORG546271885436</td>\n",
       "      <td>13318</td>\n",
       "    </tr>\n",
       "    <tr>\n",
       "      <th>1</th>\n",
       "      <td>ORG400468153021</td>\n",
       "      <td>9597</td>\n",
       "    </tr>\n",
       "    <tr>\n",
       "      <th>2</th>\n",
       "      <td>ORG127673490030</td>\n",
       "      <td>3774</td>\n",
       "    </tr>\n",
       "    <tr>\n",
       "      <th>3</th>\n",
       "      <td>ORG456935078790</td>\n",
       "      <td>2028</td>\n",
       "    </tr>\n",
       "    <tr>\n",
       "      <th>4</th>\n",
       "      <td>ORG019020816870</td>\n",
       "      <td>1681</td>\n",
       "    </tr>\n",
       "    <tr>\n",
       "      <th>5</th>\n",
       "      <td>ORG28pntxq4v8sk</td>\n",
       "      <td>969</td>\n",
       "    </tr>\n",
       "    <tr>\n",
       "      <th>6</th>\n",
       "      <td>ORG407679945784</td>\n",
       "      <td>838</td>\n",
       "    </tr>\n",
       "    <tr>\n",
       "      <th>7</th>\n",
       "      <td>ORG523955441584</td>\n",
       "      <td>708</td>\n",
       "    </tr>\n",
       "    <tr>\n",
       "      <th>8</th>\n",
       "      <td>ORG183381607282</td>\n",
       "      <td>651</td>\n",
       "    </tr>\n",
       "    <tr>\n",
       "      <th>9</th>\n",
       "      <td>ORG4s0uwwbypr6d</td>\n",
       "      <td>555</td>\n",
       "    </tr>\n",
       "  </tbody>\n",
       "</table>\n",
       "</div>"
      ],
      "text/plain": [
       "            org_id  count\n",
       "0  ORG546271885436  13318\n",
       "1  ORG400468153021   9597\n",
       "2  ORG127673490030   3774\n",
       "3  ORG456935078790   2028\n",
       "4  ORG019020816870   1681\n",
       "5  ORG28pntxq4v8sk    969\n",
       "6  ORG407679945784    838\n",
       "7  ORG523955441584    708\n",
       "8  ORG183381607282    651\n",
       "9  ORG4s0uwwbypr6d    555"
      ]
     },
     "execution_count": 48,
     "metadata": {},
     "output_type": "execute_result"
    }
   ],
   "source": [
    "org = events_df['org_id'].value_counts().reset_index()\n",
    "org.columns = ['org_id','count']\n",
    "\n",
    "org.head(10)"
   ]
  },
  {
   "cell_type": "code",
   "execution_count": 49,
   "id": "08b9a459",
   "metadata": {},
   "outputs": [
    {
     "data": {
      "text/plain": [
       "39268"
      ]
     },
     "execution_count": 49,
     "metadata": {},
     "output_type": "execute_result"
    }
   ],
   "source": [
    "org['count'].head(50).sum()"
   ]
  },
  {
   "cell_type": "code",
   "execution_count": 50,
   "id": "ed1359db",
   "metadata": {},
   "outputs": [
    {
     "data": {
      "text/html": [
       "<div>\n",
       "<style scoped>\n",
       "    .dataframe tbody tr th:only-of-type {\n",
       "        vertical-align: middle;\n",
       "    }\n",
       "\n",
       "    .dataframe tbody tr th {\n",
       "        vertical-align: top;\n",
       "    }\n",
       "\n",
       "    .dataframe thead th {\n",
       "        text-align: right;\n",
       "    }\n",
       "</style>\n",
       "<table border=\"1\" class=\"dataframe\">\n",
       "  <thead>\n",
       "    <tr style=\"text-align: right;\">\n",
       "      <th></th>\n",
       "      <th>event</th>\n",
       "      <th>org_id</th>\n",
       "      <th>project_id</th>\n",
       "      <th>user_id</th>\n",
       "      <th>date</th>\n",
       "      <th>time</th>\n",
       "      <th>event_id</th>\n",
       "      <th>quarter</th>\n",
       "    </tr>\n",
       "  </thead>\n",
       "  <tbody>\n",
       "    <tr>\n",
       "      <th>29</th>\n",
       "      <td>task_log_create_success</td>\n",
       "      <td>ORG-v31wzk39mtu</td>\n",
       "      <td>PRJ6xq2ief8x4ot</td>\n",
       "      <td>USR-r6ip6u098rf</td>\n",
       "      <td>2022-03-10</td>\n",
       "      <td>05:53:13</td>\n",
       "      <td>16</td>\n",
       "      <td>2022Q1</td>\n",
       "    </tr>\n",
       "    <tr>\n",
       "      <th>30</th>\n",
       "      <td>task_log_create_success</td>\n",
       "      <td>ORG-v31wzk39mtu</td>\n",
       "      <td>PRJ6xq2ief8x4ot</td>\n",
       "      <td>USR-r6ip6u098rf</td>\n",
       "      <td>2022-03-10</td>\n",
       "      <td>05:54:06</td>\n",
       "      <td>16</td>\n",
       "      <td>2022Q1</td>\n",
       "    </tr>\n",
       "    <tr>\n",
       "      <th>31</th>\n",
       "      <td>task_log_create_success</td>\n",
       "      <td>ORG-v31wzk39mtu</td>\n",
       "      <td>PRJ6xq2ief8x4ot</td>\n",
       "      <td>USR-r6ip6u098rf</td>\n",
       "      <td>2022-03-10</td>\n",
       "      <td>05:54:53</td>\n",
       "      <td>16</td>\n",
       "      <td>2022Q1</td>\n",
       "    </tr>\n",
       "    <tr>\n",
       "      <th>32</th>\n",
       "      <td>task_log_create_success</td>\n",
       "      <td>ORG-v31wzk39mtu</td>\n",
       "      <td>PRJ6xq2ief8x4ot</td>\n",
       "      <td>USR-r6ip6u098rf</td>\n",
       "      <td>2022-03-10</td>\n",
       "      <td>05:55:22</td>\n",
       "      <td>16</td>\n",
       "      <td>2022Q1</td>\n",
       "    </tr>\n",
       "    <tr>\n",
       "      <th>33</th>\n",
       "      <td>task_log_create_success</td>\n",
       "      <td>ORG-v31wzk39mtu</td>\n",
       "      <td>PRJ6xq2ief8x4ot</td>\n",
       "      <td>USR-r6ip6u098rf</td>\n",
       "      <td>2022-03-10</td>\n",
       "      <td>05:55:48</td>\n",
       "      <td>16</td>\n",
       "      <td>2022Q1</td>\n",
       "    </tr>\n",
       "  </tbody>\n",
       "</table>\n",
       "</div>"
      ],
      "text/plain": [
       "                      event           org_id       project_id  \\\n",
       "29  task_log_create_success  ORG-v31wzk39mtu  PRJ6xq2ief8x4ot   \n",
       "30  task_log_create_success  ORG-v31wzk39mtu  PRJ6xq2ief8x4ot   \n",
       "31  task_log_create_success  ORG-v31wzk39mtu  PRJ6xq2ief8x4ot   \n",
       "32  task_log_create_success  ORG-v31wzk39mtu  PRJ6xq2ief8x4ot   \n",
       "33  task_log_create_success  ORG-v31wzk39mtu  PRJ6xq2ief8x4ot   \n",
       "\n",
       "            user_id       date      time  event_id quarter  \n",
       "29  USR-r6ip6u098rf 2022-03-10  05:53:13        16  2022Q1  \n",
       "30  USR-r6ip6u098rf 2022-03-10  05:54:06        16  2022Q1  \n",
       "31  USR-r6ip6u098rf 2022-03-10  05:54:53        16  2022Q1  \n",
       "32  USR-r6ip6u098rf 2022-03-10  05:55:22        16  2022Q1  \n",
       "33  USR-r6ip6u098rf 2022-03-10  05:55:48        16  2022Q1  "
      ]
     },
     "execution_count": 50,
     "metadata": {},
     "output_type": "execute_result"
    }
   ],
   "source": [
    "top50org = events_df[events_df['org_id'].isin(org['org_id'].head(50))]\n",
    "top50org.head()"
   ]
  },
  {
   "cell_type": "code",
   "execution_count": 51,
   "id": "90e9b374",
   "metadata": {},
   "outputs": [
    {
     "data": {
      "text/html": [
       "<div>\n",
       "<style scoped>\n",
       "    .dataframe tbody tr th:only-of-type {\n",
       "        vertical-align: middle;\n",
       "    }\n",
       "\n",
       "    .dataframe tbody tr th {\n",
       "        vertical-align: top;\n",
       "    }\n",
       "\n",
       "    .dataframe thead th {\n",
       "        text-align: right;\n",
       "    }\n",
       "</style>\n",
       "<table border=\"1\" class=\"dataframe\">\n",
       "  <thead>\n",
       "    <tr style=\"text-align: right;\">\n",
       "      <th></th>\n",
       "      <th>event</th>\n",
       "      <th>org_id</th>\n",
       "      <th>project_id</th>\n",
       "      <th>user_id</th>\n",
       "      <th>date</th>\n",
       "      <th>time</th>\n",
       "      <th>event_id</th>\n",
       "      <th>quarter</th>\n",
       "    </tr>\n",
       "  </thead>\n",
       "  <tbody>\n",
       "    <tr>\n",
       "      <th>0</th>\n",
       "      <td>project_creation_request_success</td>\n",
       "      <td>ORG-2nufoaj370k</td>\n",
       "      <td>PRJ4k2kct6c5854</td>\n",
       "      <td>USRl50abktx6cc1</td>\n",
       "      <td>2022-04-20</td>\n",
       "      <td>18:24:30</td>\n",
       "      <td>13</td>\n",
       "      <td>2022Q2</td>\n",
       "    </tr>\n",
       "    <tr>\n",
       "      <th>1</th>\n",
       "      <td>task_log_create_success</td>\n",
       "      <td>ORG-7fcq2k7b4xg</td>\n",
       "      <td>PRJ0ypqfy9v4kii</td>\n",
       "      <td>USRqki2dkqwj6xj</td>\n",
       "      <td>2022-04-25</td>\n",
       "      <td>23:29:54</td>\n",
       "      <td>16</td>\n",
       "      <td>2022Q2</td>\n",
       "    </tr>\n",
       "    <tr>\n",
       "      <th>2</th>\n",
       "      <td>task_creation</td>\n",
       "      <td>ORG-7fcq2k7b4xg</td>\n",
       "      <td>PRJ0ypqfy9v4kii</td>\n",
       "      <td>USRqki2dkqwj6xj</td>\n",
       "      <td>2022-04-25</td>\n",
       "      <td>23:29:54</td>\n",
       "      <td>15</td>\n",
       "      <td>2022Q2</td>\n",
       "    </tr>\n",
       "    <tr>\n",
       "      <th>3</th>\n",
       "      <td>project_creation_request_success</td>\n",
       "      <td>ORG-7fcq2k7b4xg</td>\n",
       "      <td>PRJfk9dy2gb6dhp</td>\n",
       "      <td>USRqki2dkqwj6xj</td>\n",
       "      <td>2022-04-25</td>\n",
       "      <td>23:28:23</td>\n",
       "      <td>13</td>\n",
       "      <td>2022Q2</td>\n",
       "    </tr>\n",
       "    <tr>\n",
       "      <th>4</th>\n",
       "      <td>task_log_create_success</td>\n",
       "      <td>ORG-iluuim4club</td>\n",
       "      <td>PRJ1jrd11tr99dc</td>\n",
       "      <td>USRcsxgn7-vnztk</td>\n",
       "      <td>2022-03-22</td>\n",
       "      <td>20:40:20</td>\n",
       "      <td>16</td>\n",
       "      <td>2022Q1</td>\n",
       "    </tr>\n",
       "  </tbody>\n",
       "</table>\n",
       "</div>"
      ],
      "text/plain": [
       "                              event           org_id       project_id  \\\n",
       "0  project_creation_request_success  ORG-2nufoaj370k  PRJ4k2kct6c5854   \n",
       "1           task_log_create_success  ORG-7fcq2k7b4xg  PRJ0ypqfy9v4kii   \n",
       "2                     task_creation  ORG-7fcq2k7b4xg  PRJ0ypqfy9v4kii   \n",
       "3  project_creation_request_success  ORG-7fcq2k7b4xg  PRJfk9dy2gb6dhp   \n",
       "4           task_log_create_success  ORG-iluuim4club  PRJ1jrd11tr99dc   \n",
       "\n",
       "           user_id       date      time  event_id quarter  \n",
       "0  USRl50abktx6cc1 2022-04-20  18:24:30        13  2022Q2  \n",
       "1  USRqki2dkqwj6xj 2022-04-25  23:29:54        16  2022Q2  \n",
       "2  USRqki2dkqwj6xj 2022-04-25  23:29:54        15  2022Q2  \n",
       "3  USRqki2dkqwj6xj 2022-04-25  23:28:23        13  2022Q2  \n",
       "4  USRcsxgn7-vnztk 2022-03-22  20:40:20        16  2022Q1  "
      ]
     },
     "execution_count": 51,
     "metadata": {},
     "output_type": "execute_result"
    }
   ],
   "source": [
    "restorg= events_df[~events_df['org_id'].isin(org['org_id'].head(50))]\n",
    "restorg.head()"
   ]
  },
  {
   "cell_type": "code",
   "execution_count": 52,
   "id": "64f167c3",
   "metadata": {},
   "outputs": [
    {
     "data": {
      "text/plain": [
       "Text(0.5, 1.0, 'Rest 336 Org_id')"
      ]
     },
     "execution_count": 52,
     "metadata": {},
     "output_type": "execute_result"
    },
    {
     "data": {
      "image/png": "[encoded data removed]",
      "text/plain": [
       "<Figure size 1000x500 with 2 Axes>"
      ]
     },
     "metadata": {},
     "output_type": "display_data"
    }
   ],
   "source": [
    "fig,axes = plt.subplots(1,2,figsize=(10,5),sharey=True)\n",
    "\n",
    "sns.countplot(ax=axes[0],x='quarter',data=top50org)\n",
    "axes[0].set_title('Top 50 most frequent Org_id')\n",
    "\n",
    "sns.countplot(ax=axes[1],x='quarter',data=restorg)\n",
    "axes[1].set_title('Rest 336 Org_id')"
   ]
  },
  {
   "cell_type": "code",
   "execution_count": 53,
   "id": "67ea0d65",
   "metadata": {},
   "outputs": [
    {
     "data": {
      "text/html": [
       "<div>\n",
       "<style scoped>\n",
       "    .dataframe tbody tr th:only-of-type {\n",
       "        vertical-align: middle;\n",
       "    }\n",
       "\n",
       "    .dataframe tbody tr th {\n",
       "        vertical-align: top;\n",
       "    }\n",
       "\n",
       "    .dataframe thead th {\n",
       "        text-align: right;\n",
       "    }\n",
       "</style>\n",
       "<table border=\"1\" class=\"dataframe\">\n",
       "  <thead>\n",
       "    <tr style=\"text-align: right;\">\n",
       "      <th></th>\n",
       "      <th>event_id</th>\n",
       "      <th>count</th>\n",
       "    </tr>\n",
       "  </thead>\n",
       "  <tbody>\n",
       "    <tr>\n",
       "      <th>0</th>\n",
       "      <td>11</td>\n",
       "      <td>10023</td>\n",
       "    </tr>\n",
       "    <tr>\n",
       "      <th>1</th>\n",
       "      <td>1</td>\n",
       "      <td>7468</td>\n",
       "    </tr>\n",
       "    <tr>\n",
       "      <th>2</th>\n",
       "      <td>14</td>\n",
       "      <td>7214</td>\n",
       "    </tr>\n",
       "    <tr>\n",
       "      <th>3</th>\n",
       "      <td>16</td>\n",
       "      <td>4712</td>\n",
       "    </tr>\n",
       "    <tr>\n",
       "      <th>4</th>\n",
       "      <td>5</td>\n",
       "      <td>2003</td>\n",
       "    </tr>\n",
       "    <tr>\n",
       "      <th>5</th>\n",
       "      <td>4</td>\n",
       "      <td>1820</td>\n",
       "    </tr>\n",
       "    <tr>\n",
       "      <th>6</th>\n",
       "      <td>15</td>\n",
       "      <td>1373</td>\n",
       "    </tr>\n",
       "    <tr>\n",
       "      <th>7</th>\n",
       "      <td>8</td>\n",
       "      <td>1334</td>\n",
       "    </tr>\n",
       "    <tr>\n",
       "      <th>8</th>\n",
       "      <td>12</td>\n",
       "      <td>1084</td>\n",
       "    </tr>\n",
       "    <tr>\n",
       "      <th>9</th>\n",
       "      <td>3</td>\n",
       "      <td>789</td>\n",
       "    </tr>\n",
       "  </tbody>\n",
       "</table>\n",
       "</div>"
      ],
      "text/plain": [
       "   event_id  count\n",
       "0        11  10023\n",
       "1         1   7468\n",
       "2        14   7214\n",
       "3        16   4712\n",
       "4         5   2003\n",
       "5         4   1820\n",
       "6        15   1373\n",
       "7         8   1334\n",
       "8        12   1084\n",
       "9         3    789"
      ]
     },
     "execution_count": 53,
     "metadata": {},
     "output_type": "execute_result"
    }
   ],
   "source": [
    "top50orgevent = top50org['event_id'].value_counts().reset_index()\n",
    "top50orgevent.columns=['event_id','count']\n",
    "top50orgevent.head(10)"
   ]
  },
  {
   "cell_type": "code",
   "execution_count": 54,
   "id": "60820f82",
   "metadata": {},
   "outputs": [
    {
     "data": {
      "text/html": [
       "<div>\n",
       "<style scoped>\n",
       "    .dataframe tbody tr th:only-of-type {\n",
       "        vertical-align: middle;\n",
       "    }\n",
       "\n",
       "    .dataframe tbody tr th {\n",
       "        vertical-align: top;\n",
       "    }\n",
       "\n",
       "    .dataframe thead th {\n",
       "        text-align: right;\n",
       "    }\n",
       "</style>\n",
       "<table border=\"1\" class=\"dataframe\">\n",
       "  <thead>\n",
       "    <tr style=\"text-align: right;\">\n",
       "      <th></th>\n",
       "      <th>event_id</th>\n",
       "      <th>count</th>\n",
       "    </tr>\n",
       "  </thead>\n",
       "  <tbody>\n",
       "    <tr>\n",
       "      <th>0</th>\n",
       "      <td>13</td>\n",
       "      <td>373</td>\n",
       "    </tr>\n",
       "    <tr>\n",
       "      <th>1</th>\n",
       "      <td>8</td>\n",
       "      <td>358</td>\n",
       "    </tr>\n",
       "    <tr>\n",
       "      <th>2</th>\n",
       "      <td>16</td>\n",
       "      <td>277</td>\n",
       "    </tr>\n",
       "    <tr>\n",
       "      <th>3</th>\n",
       "      <td>15</td>\n",
       "      <td>222</td>\n",
       "    </tr>\n",
       "    <tr>\n",
       "      <th>4</th>\n",
       "      <td>12</td>\n",
       "      <td>159</td>\n",
       "    </tr>\n",
       "    <tr>\n",
       "      <th>5</th>\n",
       "      <td>1</td>\n",
       "      <td>98</td>\n",
       "    </tr>\n",
       "    <tr>\n",
       "      <th>6</th>\n",
       "      <td>11</td>\n",
       "      <td>90</td>\n",
       "    </tr>\n",
       "    <tr>\n",
       "      <th>7</th>\n",
       "      <td>14</td>\n",
       "      <td>58</td>\n",
       "    </tr>\n",
       "    <tr>\n",
       "      <th>8</th>\n",
       "      <td>3</td>\n",
       "      <td>48</td>\n",
       "    </tr>\n",
       "    <tr>\n",
       "      <th>9</th>\n",
       "      <td>5</td>\n",
       "      <td>21</td>\n",
       "    </tr>\n",
       "  </tbody>\n",
       "</table>\n",
       "</div>"
      ],
      "text/plain": [
       "   event_id  count\n",
       "0        13    373\n",
       "1         8    358\n",
       "2        16    277\n",
       "3        15    222\n",
       "4        12    159\n",
       "5         1     98\n",
       "6        11     90\n",
       "7        14     58\n",
       "8         3     48\n",
       "9         5     21"
      ]
     },
     "execution_count": 54,
     "metadata": {},
     "output_type": "execute_result"
    }
   ],
   "source": [
    "restorgevent=restorg['event_id'].value_counts().reset_index()\n",
    "restorgevent.columns = ['event_id','count']\n",
    "restorgevent.head(10)"
   ]
  },
  {
   "cell_type": "code",
   "execution_count": 55,
   "id": "b69cc435",
   "metadata": {},
   "outputs": [
    {
     "data": {
      "image/png": "[encoded data removed]",
      "text/plain": [
       "<Figure size 1000x500 with 2 Axes>"
      ]
     },
     "metadata": {},
     "output_type": "display_data"
    }
   ],
   "source": [
    "plt.figure(figsize=(10,5))\n",
    "ax1= sns.lineplot(x='event_id',y='count',data=restorgevent,label='rest 446 org_id')\n",
    "\n",
    "ax2=ax1.twinx()\n",
    "\n",
    "sns.barplot(x='event_id',y='count',data = top50orgevent,alpha=0.7,label='Top 50 org_id')\n",
    "\n",
    "ax1.legend(loc='upper left')\n",
    "ax2.legend(loc='upper right')\n",
    "plt.show()"
   ]
  },
  {
   "cell_type": "code",
   "execution_count": 56,
   "id": "743133bc",
   "metadata": {},
   "outputs": [],
   "source": [
    "# doing the same for differnet project_ids"
   ]
  },
  {
   "cell_type": "code",
   "execution_count": 57,
   "id": "b42870cf",
   "metadata": {},
   "outputs": [
    {
     "data": {
      "text/html": [
       "<div>\n",
       "<style scoped>\n",
       "    .dataframe tbody tr th:only-of-type {\n",
       "        vertical-align: middle;\n",
       "    }\n",
       "\n",
       "    .dataframe tbody tr th {\n",
       "        vertical-align: top;\n",
       "    }\n",
       "\n",
       "    .dataframe thead th {\n",
       "        text-align: right;\n",
       "    }\n",
       "</style>\n",
       "<table border=\"1\" class=\"dataframe\">\n",
       "  <thead>\n",
       "    <tr style=\"text-align: right;\">\n",
       "      <th></th>\n",
       "      <th>project_id</th>\n",
       "      <th>count</th>\n",
       "    </tr>\n",
       "  </thead>\n",
       "  <tbody>\n",
       "    <tr>\n",
       "      <th>0</th>\n",
       "      <td>PRJ256203650640</td>\n",
       "      <td>12820</td>\n",
       "    </tr>\n",
       "    <tr>\n",
       "      <th>1</th>\n",
       "      <td>PRJppirvslunbh9</td>\n",
       "      <td>1779</td>\n",
       "    </tr>\n",
       "    <tr>\n",
       "      <th>2</th>\n",
       "      <td>PRJ63dg0jj0k-vo</td>\n",
       "      <td>1481</td>\n",
       "    </tr>\n",
       "    <tr>\n",
       "      <th>3</th>\n",
       "      <td>PRJ8p2m3wyqmzs7</td>\n",
       "      <td>1348</td>\n",
       "    </tr>\n",
       "    <tr>\n",
       "      <th>4</th>\n",
       "      <td>PRJ355445863893</td>\n",
       "      <td>1280</td>\n",
       "    </tr>\n",
       "    <tr>\n",
       "      <th>5</th>\n",
       "      <td>PRJ236274665952</td>\n",
       "      <td>1227</td>\n",
       "    </tr>\n",
       "    <tr>\n",
       "      <th>6</th>\n",
       "      <td>PRJ924458474360</td>\n",
       "      <td>1148</td>\n",
       "    </tr>\n",
       "    <tr>\n",
       "      <th>7</th>\n",
       "      <td>PRJ060799956494</td>\n",
       "      <td>1062</td>\n",
       "    </tr>\n",
       "    <tr>\n",
       "      <th>8</th>\n",
       "      <td>PRJxgi6rhgey7i1</td>\n",
       "      <td>984</td>\n",
       "    </tr>\n",
       "    <tr>\n",
       "      <th>9</th>\n",
       "      <td>PRJ907457431360</td>\n",
       "      <td>627</td>\n",
       "    </tr>\n",
       "  </tbody>\n",
       "</table>\n",
       "</div>"
      ],
      "text/plain": [
       "        project_id  count\n",
       "0  PRJ256203650640  12820\n",
       "1  PRJppirvslunbh9   1779\n",
       "2  PRJ63dg0jj0k-vo   1481\n",
       "3  PRJ8p2m3wyqmzs7   1348\n",
       "4  PRJ355445863893   1280\n",
       "5  PRJ236274665952   1227\n",
       "6  PRJ924458474360   1148\n",
       "7  PRJ060799956494   1062\n",
       "8  PRJxgi6rhgey7i1    984\n",
       "9  PRJ907457431360    627"
      ]
     },
     "execution_count": 57,
     "metadata": {},
     "output_type": "execute_result"
    }
   ],
   "source": [
    "proj_ids=events_df['project_id'].value_counts().reset_index()\n",
    "proj_ids.columns=['project_id','count']\n",
    "proj_ids= proj_ids.sort_values(by='count',ascending=False)\n",
    "proj_ids.head(10)"
   ]
  },
  {
   "cell_type": "code",
   "execution_count": 58,
   "id": "00fd0383",
   "metadata": {},
   "outputs": [
    {
     "data": {
      "text/html": [
       "<div>\n",
       "<style scoped>\n",
       "    .dataframe tbody tr th:only-of-type {\n",
       "        vertical-align: middle;\n",
       "    }\n",
       "\n",
       "    .dataframe tbody tr th {\n",
       "        vertical-align: top;\n",
       "    }\n",
       "\n",
       "    .dataframe thead th {\n",
       "        text-align: right;\n",
       "    }\n",
       "</style>\n",
       "<table border=\"1\" class=\"dataframe\">\n",
       "  <thead>\n",
       "    <tr style=\"text-align: right;\">\n",
       "      <th></th>\n",
       "      <th>event</th>\n",
       "      <th>org_id</th>\n",
       "      <th>project_id</th>\n",
       "      <th>user_id</th>\n",
       "      <th>date</th>\n",
       "      <th>time</th>\n",
       "      <th>event_id</th>\n",
       "      <th>quarter</th>\n",
       "    </tr>\n",
       "  </thead>\n",
       "  <tbody>\n",
       "    <tr>\n",
       "      <th>87</th>\n",
       "      <td>task_creation</td>\n",
       "      <td>ORG008455263549</td>\n",
       "      <td>PRJ113905173253</td>\n",
       "      <td>USR017000020981</td>\n",
       "      <td>2022-02-05</td>\n",
       "      <td>11:25:19</td>\n",
       "      <td>15</td>\n",
       "      <td>2022Q1</td>\n",
       "    </tr>\n",
       "    <tr>\n",
       "      <th>88</th>\n",
       "      <td>stock_material_updated</td>\n",
       "      <td>ORG008455263549</td>\n",
       "      <td>PRJ113905173253</td>\n",
       "      <td>USRk2jbsvl2yrex</td>\n",
       "      <td>2022-08-11</td>\n",
       "      <td>18:25:46</td>\n",
       "      <td>14</td>\n",
       "      <td>2022Q3</td>\n",
       "    </tr>\n",
       "    <tr>\n",
       "      <th>89</th>\n",
       "      <td>stock_material_updated</td>\n",
       "      <td>ORG008455263549</td>\n",
       "      <td>PRJ113905173253</td>\n",
       "      <td>USRk2jbsvl2yrex</td>\n",
       "      <td>2022-08-11</td>\n",
       "      <td>18:26:23</td>\n",
       "      <td>14</td>\n",
       "      <td>2022Q3</td>\n",
       "    </tr>\n",
       "    <tr>\n",
       "      <th>90</th>\n",
       "      <td>stock_material_updated</td>\n",
       "      <td>ORG008455263549</td>\n",
       "      <td>PRJ113905173253</td>\n",
       "      <td>USRk2jbsvl2yrex</td>\n",
       "      <td>2022-08-13</td>\n",
       "      <td>11:13:52</td>\n",
       "      <td>14</td>\n",
       "      <td>2022Q3</td>\n",
       "    </tr>\n",
       "    <tr>\n",
       "      <th>91</th>\n",
       "      <td>stock_material_updated</td>\n",
       "      <td>ORG008455263549</td>\n",
       "      <td>PRJ113905173253</td>\n",
       "      <td>USRk2jbsvl2yrex</td>\n",
       "      <td>2022-08-13</td>\n",
       "      <td>12:03:11</td>\n",
       "      <td>14</td>\n",
       "      <td>2022Q3</td>\n",
       "    </tr>\n",
       "  </tbody>\n",
       "</table>\n",
       "</div>"
      ],
      "text/plain": [
       "                     event           org_id       project_id          user_id  \\\n",
       "87           task_creation  ORG008455263549  PRJ113905173253  USR017000020981   \n",
       "88  stock_material_updated  ORG008455263549  PRJ113905173253  USRk2jbsvl2yrex   \n",
       "89  stock_material_updated  ORG008455263549  PRJ113905173253  USRk2jbsvl2yrex   \n",
       "90  stock_material_updated  ORG008455263549  PRJ113905173253  USRk2jbsvl2yrex   \n",
       "91  stock_material_updated  ORG008455263549  PRJ113905173253  USRk2jbsvl2yrex   \n",
       "\n",
       "         date      time  event_id quarter  \n",
       "87 2022-02-05  11:25:19        15  2022Q1  \n",
       "88 2022-08-11  18:25:46        14  2022Q3  \n",
       "89 2022-08-11  18:26:23        14  2022Q3  \n",
       "90 2022-08-13  11:13:52        14  2022Q3  \n",
       "91 2022-08-13  12:03:11        14  2022Q3  "
      ]
     },
     "execution_count": 58,
     "metadata": {},
     "output_type": "execute_result"
    }
   ],
   "source": [
    "top50proj=events_df[events_df['project_id'].isin(proj_ids['project_id'].head(50))]\n",
    "top50proj.head()"
   ]
  },
  {
   "cell_type": "code",
   "execution_count": 59,
   "id": "feae79f0",
   "metadata": {},
   "outputs": [
    {
     "data": {
      "text/html": [
       "<div>\n",
       "<style scoped>\n",
       "    .dataframe tbody tr th:only-of-type {\n",
       "        vertical-align: middle;\n",
       "    }\n",
       "\n",
       "    .dataframe tbody tr th {\n",
       "        vertical-align: top;\n",
       "    }\n",
       "\n",
       "    .dataframe thead th {\n",
       "        text-align: right;\n",
       "    }\n",
       "</style>\n",
       "<table border=\"1\" class=\"dataframe\">\n",
       "  <thead>\n",
       "    <tr style=\"text-align: right;\">\n",
       "      <th></th>\n",
       "      <th>event</th>\n",
       "      <th>org_id</th>\n",
       "      <th>project_id</th>\n",
       "      <th>user_id</th>\n",
       "      <th>date</th>\n",
       "      <th>time</th>\n",
       "      <th>event_id</th>\n",
       "      <th>quarter</th>\n",
       "    </tr>\n",
       "  </thead>\n",
       "  <tbody>\n",
       "    <tr>\n",
       "      <th>0</th>\n",
       "      <td>project_creation_request_success</td>\n",
       "      <td>ORG-2nufoaj370k</td>\n",
       "      <td>PRJ4k2kct6c5854</td>\n",
       "      <td>USRl50abktx6cc1</td>\n",
       "      <td>2022-04-20</td>\n",
       "      <td>18:24:30</td>\n",
       "      <td>13</td>\n",
       "      <td>2022Q2</td>\n",
       "    </tr>\n",
       "    <tr>\n",
       "      <th>1</th>\n",
       "      <td>task_log_create_success</td>\n",
       "      <td>ORG-7fcq2k7b4xg</td>\n",
       "      <td>PRJ0ypqfy9v4kii</td>\n",
       "      <td>USRqki2dkqwj6xj</td>\n",
       "      <td>2022-04-25</td>\n",
       "      <td>23:29:54</td>\n",
       "      <td>16</td>\n",
       "      <td>2022Q2</td>\n",
       "    </tr>\n",
       "    <tr>\n",
       "      <th>2</th>\n",
       "      <td>task_creation</td>\n",
       "      <td>ORG-7fcq2k7b4xg</td>\n",
       "      <td>PRJ0ypqfy9v4kii</td>\n",
       "      <td>USRqki2dkqwj6xj</td>\n",
       "      <td>2022-04-25</td>\n",
       "      <td>23:29:54</td>\n",
       "      <td>15</td>\n",
       "      <td>2022Q2</td>\n",
       "    </tr>\n",
       "    <tr>\n",
       "      <th>3</th>\n",
       "      <td>project_creation_request_success</td>\n",
       "      <td>ORG-7fcq2k7b4xg</td>\n",
       "      <td>PRJfk9dy2gb6dhp</td>\n",
       "      <td>USRqki2dkqwj6xj</td>\n",
       "      <td>2022-04-25</td>\n",
       "      <td>23:28:23</td>\n",
       "      <td>13</td>\n",
       "      <td>2022Q2</td>\n",
       "    </tr>\n",
       "    <tr>\n",
       "      <th>4</th>\n",
       "      <td>task_log_create_success</td>\n",
       "      <td>ORG-iluuim4club</td>\n",
       "      <td>PRJ1jrd11tr99dc</td>\n",
       "      <td>USRcsxgn7-vnztk</td>\n",
       "      <td>2022-03-22</td>\n",
       "      <td>20:40:20</td>\n",
       "      <td>16</td>\n",
       "      <td>2022Q1</td>\n",
       "    </tr>\n",
       "  </tbody>\n",
       "</table>\n",
       "</div>"
      ],
      "text/plain": [
       "                              event           org_id       project_id  \\\n",
       "0  project_creation_request_success  ORG-2nufoaj370k  PRJ4k2kct6c5854   \n",
       "1           task_log_create_success  ORG-7fcq2k7b4xg  PRJ0ypqfy9v4kii   \n",
       "2                     task_creation  ORG-7fcq2k7b4xg  PRJ0ypqfy9v4kii   \n",
       "3  project_creation_request_success  ORG-7fcq2k7b4xg  PRJfk9dy2gb6dhp   \n",
       "4           task_log_create_success  ORG-iluuim4club  PRJ1jrd11tr99dc   \n",
       "\n",
       "           user_id       date      time  event_id quarter  \n",
       "0  USRl50abktx6cc1 2022-04-20  18:24:30        13  2022Q2  \n",
       "1  USRqki2dkqwj6xj 2022-04-25  23:29:54        16  2022Q2  \n",
       "2  USRqki2dkqwj6xj 2022-04-25  23:29:54        15  2022Q2  \n",
       "3  USRqki2dkqwj6xj 2022-04-25  23:28:23        13  2022Q2  \n",
       "4  USRcsxgn7-vnztk 2022-03-22  20:40:20        16  2022Q1  "
      ]
     },
     "execution_count": 59,
     "metadata": {},
     "output_type": "execute_result"
    }
   ],
   "source": [
    "restproj = events_df[~events_df['project_id'].isin(proj_ids['project_id'].head(50))]\n",
    "restproj.head()"
   ]
  },
  {
   "cell_type": "code",
   "execution_count": 60,
   "id": "7f14234b",
   "metadata": {},
   "outputs": [
    {
     "data": {
      "text/plain": [
       "Text(0.5, 1.0, 'Rest 336 Org_id')"
      ]
     },
     "execution_count": 60,
     "metadata": {},
     "output_type": "execute_result"
    },
    {
     "data": {
      "image/png": "[encoded data removed]",
      "text/plain": [
       "<Figure size 1000x500 with 2 Axes>"
      ]
     },
     "metadata": {},
     "output_type": "display_data"
    }
   ],
   "source": [
    "fig,axes = plt.subplots(1,2,figsize=(10,5),sharey=True)\n",
    "\n",
    "sns.countplot(ax=axes[0],x='quarter',data=top50proj)\n",
    "axes[0].set_title('Top 50 most frequent proj_id')\n",
    "\n",
    "sns.countplot(ax=axes[1],x='quarter',data=restproj)\n",
    "axes[1].set_title('Rest 336 Org_id')"
   ]
  },
  {
   "cell_type": "code",
   "execution_count": 61,
   "id": "5c7e6caf",
   "metadata": {},
   "outputs": [
    {
     "data": {
      "text/html": [
       "<div>\n",
       "<style scoped>\n",
       "    .dataframe tbody tr th:only-of-type {\n",
       "        vertical-align: middle;\n",
       "    }\n",
       "\n",
       "    .dataframe tbody tr th {\n",
       "        vertical-align: top;\n",
       "    }\n",
       "\n",
       "    .dataframe thead th {\n",
       "        text-align: right;\n",
       "    }\n",
       "</style>\n",
       "<table border=\"1\" class=\"dataframe\">\n",
       "  <thead>\n",
       "    <tr style=\"text-align: right;\">\n",
       "      <th></th>\n",
       "      <th>event_id</th>\n",
       "      <th>count</th>\n",
       "    </tr>\n",
       "  </thead>\n",
       "  <tbody>\n",
       "    <tr>\n",
       "      <th>0</th>\n",
       "      <td>11</td>\n",
       "      <td>9453</td>\n",
       "    </tr>\n",
       "    <tr>\n",
       "      <th>1</th>\n",
       "      <td>1</td>\n",
       "      <td>6850</td>\n",
       "    </tr>\n",
       "    <tr>\n",
       "      <th>2</th>\n",
       "      <td>14</td>\n",
       "      <td>6785</td>\n",
       "    </tr>\n",
       "    <tr>\n",
       "      <th>3</th>\n",
       "      <td>16</td>\n",
       "      <td>3473</td>\n",
       "    </tr>\n",
       "    <tr>\n",
       "      <th>4</th>\n",
       "      <td>5</td>\n",
       "      <td>1730</td>\n",
       "    </tr>\n",
       "  </tbody>\n",
       "</table>\n",
       "</div>"
      ],
      "text/plain": [
       "   event_id  count\n",
       "0        11   9453\n",
       "1         1   6850\n",
       "2        14   6785\n",
       "3        16   3473\n",
       "4         5   1730"
      ]
     },
     "execution_count": 61,
     "metadata": {},
     "output_type": "execute_result"
    }
   ],
   "source": [
    "top50projevents=top50proj['event_id'].value_counts().reset_index()\n",
    "top50projevents.columns= ['event_id','count']\n",
    "top50projevents.head()"
   ]
  },
  {
   "cell_type": "code",
   "execution_count": 62,
   "id": "49d0beaf",
   "metadata": {},
   "outputs": [
    {
     "data": {
      "text/html": [
       "<div>\n",
       "<style scoped>\n",
       "    .dataframe tbody tr th:only-of-type {\n",
       "        vertical-align: middle;\n",
       "    }\n",
       "\n",
       "    .dataframe tbody tr th {\n",
       "        vertical-align: top;\n",
       "    }\n",
       "\n",
       "    .dataframe thead th {\n",
       "        text-align: right;\n",
       "    }\n",
       "</style>\n",
       "<table border=\"1\" class=\"dataframe\">\n",
       "  <thead>\n",
       "    <tr style=\"text-align: right;\">\n",
       "      <th></th>\n",
       "      <th>event_id</th>\n",
       "      <th>count</th>\n",
       "    </tr>\n",
       "  </thead>\n",
       "  <tbody>\n",
       "    <tr>\n",
       "      <th>0</th>\n",
       "      <td>16</td>\n",
       "      <td>1516</td>\n",
       "    </tr>\n",
       "    <tr>\n",
       "      <th>1</th>\n",
       "      <td>15</td>\n",
       "      <td>810</td>\n",
       "    </tr>\n",
       "    <tr>\n",
       "      <th>2</th>\n",
       "      <td>1</td>\n",
       "      <td>716</td>\n",
       "    </tr>\n",
       "    <tr>\n",
       "      <th>3</th>\n",
       "      <td>8</td>\n",
       "      <td>710</td>\n",
       "    </tr>\n",
       "    <tr>\n",
       "      <th>4</th>\n",
       "      <td>11</td>\n",
       "      <td>660</td>\n",
       "    </tr>\n",
       "  </tbody>\n",
       "</table>\n",
       "</div>"
      ],
      "text/plain": [
       "   event_id  count\n",
       "0        16   1516\n",
       "1        15    810\n",
       "2         1    716\n",
       "3         8    710\n",
       "4        11    660"
      ]
     },
     "execution_count": 62,
     "metadata": {},
     "output_type": "execute_result"
    }
   ],
   "source": [
    "restprojevents=restproj['event_id'].value_counts().reset_index()\n",
    "restprojevents.columns = ['event_id','count']\n",
    "restprojevents.head()"
   ]
  },
  {
   "cell_type": "code",
   "execution_count": 64,
   "id": "821e1683",
   "metadata": {},
   "outputs": [
    {
     "data": {
      "image/png": "[encoded data removed]",
      "text/plain": [
       "<Figure size 1000x500 with 2 Axes>"
      ]
     },
     "metadata": {},
     "output_type": "display_data"
    }
   ],
   "source": [
    "plt.figure(figsize=(10,5))\n",
    "ax1= sns.lineplot(x='event_id',y='count',data=restprojevents,label='rest Projets')\n",
    "\n",
    "ax2=ax1.twinx()\n",
    "\n",
    "sns.barplot(x='event_id',y='count',data = top50projevents,alpha=0.7,label='Top 50 projects')\n",
    "\n",
    "ax1.legend(loc='upper left')\n",
    "ax2.legend(loc='upper right')\n",
    "plt.show()"
   ]
  },
  {
   "cell_type": "code",
   "execution_count": null,
   "id": "c475ca80",
   "metadata": {},
   "outputs": [],
   "source": []
  }
 ],
 "metadata": {
  "kernelspec": {
   "display_name": "Python 3 (ipykernel)",
   "language": "python",
   "name": "python3"
  },
  "language_info": {
   "codemirror_mode": {
    "name": "ipython",
    "version": 3
   },
   "file_extension": ".py",
   "mimetype": "text/x-python",
   "name": "python",
   "nbconvert_exporter": "python",
   "pygments_lexer": "ipython3",
   "version": "3.9.13"
  }
 },
 "nbformat": 4,
 "nbformat_minor": 5
}
